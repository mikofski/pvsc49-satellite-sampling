{
 "cells": [
  {
   "cell_type": "markdown",
   "id": "67047cb3",
   "metadata": {},
   "source": [
    "# Effect of instantaneous weather sampling rate on subhourly clipping errors - SURFRAD-dra\n",
    "These notebooks resample the SURFRAD network data at different frequencies to simulate satellite data."
   ]
  },
  {
   "cell_type": "code",
   "execution_count": null,
   "id": "336cc772",
   "metadata": {},
   "outputs": [],
   "source": [
    "import calendar\n",
    "from dataclasses import dataclass\n",
    "import pathlib\n",
    "import matplotlib as mpl\n",
    "from matplotlib import pyplot as plt\n",
    "import numpy as np\n",
    "import pandas as pd\n",
    "import pvlib\n",
    "import rdtools\n",
    "import seaborn as sns\n",
    "from tqdm import tqdm"
   ]
  },
  {
   "cell_type": "code",
   "execution_count": null,
   "id": "b3ed7d77",
   "metadata": {},
   "outputs": [],
   "source": [
    "sns.set(font_scale=1.5, rc={'figure.figsize': (12, 8)})"
   ]
  },
  {
   "cell_type": "code",
   "execution_count": null,
   "id": "5ad578e7-014d-4f94-9cf0-3aaa7d7782ca",
   "metadata": {},
   "outputs": [],
   "source": [
    "# CONSTANTS\n",
    "# https://gml.noaa.gov/grad/surfrad/sitepage.html\n",
    "SURFRAD_TZ = {\n",
    "    'bon': '-06:00', 'tbl': '-07:00', 'dra': '-08:00', 'fpk': '-07:00',\n",
    "    'gwn': '-06:00', 'psu': '-05:00', 'sxf': '-06:00'}"
   ]
  },
  {
   "cell_type": "markdown",
   "id": "4185f873-f149-4c36-95f8-b841d7b9791e",
   "metadata": {},
   "source": [
    "## Some useful functions\n",
    "* `read_surfrad_year` just reads all daily files from a yearly surfrad folder"
   ]
  },
  {
   "cell_type": "code",
   "execution_count": null,
   "id": "7fc6ce13",
   "metadata": {},
   "outputs": [],
   "source": [
    "def read_surfrad_year(surfrad_year_path):\n",
    "    \"\"\"\n",
    "    Parameters\n",
    "    -----------\n",
    "    surfrad_year_path : pathlib.Path\n",
    "        path to folder containing a single year of daily SURFRAD data files\n",
    "    Returns\n",
    "    -------\n",
    "    df : pandas.DataFrame\n",
    "        All of the daily weather data from folder of single year concatentated\n",
    "        along time axis\n",
    "    header : dict\n",
    "        info about the location, timezone, and station name\n",
    "    \"\"\"\n",
    "    data = [pvlib.iotools.read_surfrad(f) for f in surfrad_year_path.iterdir()]\n",
    "    dfs, heads = zip(*data)\n",
    "    df = pd.concat(dfs)\n",
    "    header = heads[0]\n",
    "    return df, header"
   ]
  },
  {
   "cell_type": "markdown",
   "id": "9a7518b3-87f8-4c98-98d9-40608448c4b5",
   "metadata": {},
   "source": [
    "## Accessing SURFRAD data\n",
    "SURFRAD has 7 stations. pvlib-python has functions to download data from SURFRAD, but it takes a while, so I have previously downloaded and cached the data in folders for each station. Inside each station folder, there are folders for each year with data. Most stations began measurements in 1995 and continuously add new data one day at a time. These daily data files are stored in the yearly folders.\n",
    "\n",
    "Here I specify the path the SURFRAD folder that contains all of the stations and then pick a single station to look at in this folder. Later we can try to manipulate all of the stations after working out the algorithms."
   ]
  },
  {
   "cell_type": "code",
   "execution_count": null,
   "id": "2dac2a06",
   "metadata": {},
   "outputs": [],
   "source": [
    "# specify path to all SURFRAD station data\n",
    "surfrad_dir = pathlib.Path('../../SURFRAD')\n",
    "print(f'Is there really a \\33[1m\\33[91m\"SURFRAD\"\\33[0m\\33[0m directory?'\n",
    "      f' \\33[1m\\33[92m{surfrad_dir.exists()} \\u2713\\33[0m\\33[0m')"
   ]
  },
  {
   "cell_type": "code",
   "execution_count": null,
   "id": "3727b637",
   "metadata": {},
   "outputs": [],
   "source": [
    "# specify path to just a single station, EG: Bondville, IL\n",
    "weather_dir = \"Desert_Rock_NV\"\n",
    "weather_path = surfrad_dir / weather_dir\n",
    "print(f'Is there really a \\33[1m\\33[91m\"{weather_path}\"\\33[0m\\33[0m directory?'\n",
    "      f' \\33[1m\\33[92m{weather_path.exists()} \\u2713\\33[0m\\33[0m')"
   ]
  },
  {
   "cell_type": "code",
   "execution_count": null,
   "id": "fb721491",
   "metadata": {},
   "outputs": [],
   "source": [
    "# display what years are in the SURFRAD station folder\n",
    "weather_year_paths = weather_path.iterdir()\n",
    "years = [p.parts[-1] for p in weather_year_paths]\n",
    "', '.join(years)"
   ]
  },
  {
   "cell_type": "markdown",
   "id": "11b44494-ced8-49e7-b72b-6df32a411f1a",
   "metadata": {},
   "source": [
    "## Narrowing Selection\n",
    "There are a lot of years in a single station because SURFRAD has been operating for over 25 years! We can narrow our selection and make our work easier by checking:\n",
    "* timestep or time-interval\n",
    "* completeness of the year\n",
    "* containing all of the required data\n",
    "\n",
    "### Timesteps\n",
    "SURFRAD stations collect data at either 3-minute or 1-minute intervals. For example, up until 2009, the Bondville, IL, station collected data at 3-minute intervals and then afterwards colected at 1-minute intervals. I narrow the selection by only using 1-minute intervals.\n",
    "\n",
    "### Yearly Completeness\n",
    "Each year has missing data, so I further narrow the selection by only using years that are at least 98% complete.\n",
    "\n",
    "### Data Fields\n",
    "Some of the fields are also missing. For example 1995 is missing all of the diffuse horizontal irradiance and about half of the air temperature data. I further narrow the selection by only using years with GHI, DHI, DNI, air temperature, wind speed, and solar zenith. This is a complete data set."
   ]
  },
  {
   "cell_type": "code",
   "execution_count": null,
   "id": "c198edd3",
   "metadata": {},
   "outputs": [],
   "source": [
    "# how many years are missing data?\n",
    "REQD_COLS = ['ghi', 'dhi', 'dni', 'solar_zenith', 'wind_speed', 'temp_air', 'pressure', 'relative_humidity']\n",
    "weather_years = dict.fromkeys(years)\n",
    "weather_stats = pd.DataFrame(index=years, columns=['Number of Records', 'Expected', 'Timestep', 'Completeness'])\n",
    "for weather_year in tqdm(weather_path.iterdir()):\n",
    "    weather_df, weather_header = read_surfrad_year(weather_year)\n",
    "    year = weather_year.parts[-1]\n",
    "    dt = np.diff(weather_df.index).min().seconds/60\n",
    "    weather_years[year] = weather_df[REQD_COLS].dropna()\n",
    "    num_recs = weather_years[year].shape[0]\n",
    "    daze = 365*24*60/dt\n",
    "    if calendar.isleap(int(year)):\n",
    "        daze += (24*60/dt)\n",
    "    frac_recs = num_recs/daze\n",
    "    weather_stats.loc[year] = (num_recs, daze, dt, frac_recs)\n",
    "weather_stats"
   ]
  },
  {
   "cell_type": "code",
   "execution_count": null,
   "id": "0f4d6cf4-a9fc-4264-920e-7af86597fa1b",
   "metadata": {},
   "outputs": [],
   "source": [
    "weather_header"
   ]
  },
  {
   "cell_type": "code",
   "execution_count": null,
   "id": "0ce1aa23-b50f-4917-9291-c1de8d7cff34",
   "metadata": {},
   "outputs": [],
   "source": [
    "weather_df.columns"
   ]
  },
  {
   "cell_type": "markdown",
   "id": "aa29e0a9-c2c3-4388-b79c-1239de355f37",
   "metadata": {},
   "source": [
    "## QA/QC\n",
    "Selecting only years that are > 98% complete and have 1-minute timestep, we reduce the number of years to 8: from 2010-2015, 2017, 2019"
   ]
  },
  {
   "cell_type": "code",
   "execution_count": null,
   "id": "31083e14-dda2-42fb-95ec-e1f79e419928",
   "metadata": {},
   "outputs": [],
   "source": [
    "is_dt_1min = (weather_stats['Timestep'].values.astype(int) == 1)\n",
    "is_98pct_complete = (weather_stats['Completeness'].values >= 0.98)\n",
    "selected_years = weather_stats[is_dt_1min & is_98pct_complete]\n",
    "selected_years"
   ]
  },
  {
   "cell_type": "code",
   "execution_count": null,
   "id": "eff6cfa8",
   "metadata": {},
   "outputs": [],
   "source": [
    "# pop the unselected years from weather_years\n",
    "for year in years:\n",
    "    if year not in selected_years.index:\n",
    "        print(f'{year}: {weather_stats.loc[year, \"Completeness\"]} complete and {weather_stats.loc[year, \"Timestep\"]}-min timestep')\n",
    "        weather_years.pop(year)\n",
    "list(weather_years.keys())"
   ]
  },
  {
   "cell_type": "code",
   "execution_count": null,
   "id": "53fed9bb-0e89-4672-806e-c12b6d9973d8",
   "metadata": {},
   "outputs": [],
   "source": [
    "f, ax = plt.subplots(len(REQD_COLS), 1, sharex=True, figsize=(16, 18))\n",
    "for n, k in enumerate(REQD_COLS):\n",
    "    for year in tqdm(selected_years.index):\n",
    "        #print(f'making plot of {k} for {year}')\n",
    "        weather_years[year][k].plot(ax=ax[n])\n",
    "    ax[n].set_ylabel(k.replace('_', ' '))\n",
    "ax[0].set_title(f'Selected SURFRAD data for {weather_dir}')\n",
    "f.tight_layout()"
   ]
  },
  {
   "cell_type": "code",
   "execution_count": null,
   "id": "e2f44219",
   "metadata": {},
   "outputs": [],
   "source": [
    "LATITUDE = weather_header['latitude']\n",
    "LONGITUDE = weather_header['longitude']\n",
    "ELEVATION = weather_header['elevation']\n",
    "YEAR = selected_years.index[0]\n",
    "print(f'year: {YEAR}')\n",
    "TIMES = weather_years[YEAR].index"
   ]
  },
  {
   "cell_type": "code",
   "execution_count": null,
   "id": "f914840b-c845-4ba9-a007-884cec5ba8a7",
   "metadata": {},
   "outputs": [],
   "source": [
    "TIMES"
   ]
  },
  {
   "cell_type": "code",
   "execution_count": null,
   "id": "c202a886-bc4e-4f2e-a670-93f31b41f843",
   "metadata": {},
   "outputs": [],
   "source": [
    "df = weather_years[YEAR]\n",
    "df.head()"
   ]
  },
  {
   "cell_type": "code",
   "execution_count": null,
   "id": "4d5e7c7f",
   "metadata": {},
   "outputs": [],
   "source": [
    "# get solar position\n",
    "sp = pvlib.solarposition.get_solarposition(\n",
    "        TIMES, LATITUDE, LONGITUDE)\n",
    "solar_zenith = sp.apparent_zenith.values\n",
    "solar_azimuth = sp.azimuth.values"
   ]
  },
  {
   "cell_type": "code",
   "execution_count": null,
   "id": "c482cdd7",
   "metadata": {},
   "outputs": [],
   "source": [
    "# check the calculated zenith from SURFRAD\n",
    "ze_mbe = 100 * (\n",
    "    sum(solar_zenith - df.solar_zenith.values)\n",
    "    / sum(df.solar_zenith.values))\n",
    "print(f'zenith MBE: {ze_mbe}%')"
   ]
  },
  {
   "cell_type": "markdown",
   "id": "d74dfc65",
   "metadata": {},
   "source": [
    "## Load SURFRAD daily weather data\n",
    "Each day is in a separate file. We already read this in using pvlib"
   ]
  },
  {
   "cell_type": "code",
   "execution_count": null,
   "id": "493772b3",
   "metadata": {},
   "outputs": [],
   "source": [
    "# how many days are in this file\n",
    "weather_year_paths = list(weather_path.iterdir())\n",
    "year_idx = weather_year_paths.index(weather_path / YEAR)\n",
    "weather_year_day_files = list(weather_year_paths[year_idx].iterdir())\n",
    "CODENAME = weather_year_day_files[0].stem[:3]\n",
    "TZ = SURFRAD_TZ[CODENAME]\n",
    "print(f'{CODENAME} timezone: {TZ}')\n",
    "day_files = {int(d.parts[-1][5:-4]) for d in weather_year_day_files}\n",
    "len(day_files)"
   ]
  },
  {
   "cell_type": "code",
   "execution_count": null,
   "id": "60bfe22b-fa30-45c1-8d39-9e235aeee081",
   "metadata": {},
   "outputs": [],
   "source": [
    "# missing days\n",
    "missing_days = set(range(1, 366)) - day_files\n",
    "missing_days"
   ]
  },
  {
   "cell_type": "markdown",
   "id": "0e8536f5",
   "metadata": {},
   "source": [
    "## Sanity check\n",
    "Look at a few timestamps around solar noon and display only a handful of columns:\n",
    "* direct normal irradiance (DNI): `'dni'`\n",
    "* global horizontal irradiance (GHI): `'ghi'`\n",
    "* diffuse horizontal irradiance (DHI): `'dhi'`\n",
    "* solar zenith: `'solar_zenith'`\n",
    "* wind speed: `'wind_speed'`\n",
    "* air temperature: `'temp_air'`"
   ]
  },
  {
   "cell_type": "code",
   "execution_count": null,
   "id": "cbf7cb7e",
   "metadata": {},
   "outputs": [],
   "source": [
    "# view a few timestamps to sanity check (E. Tufte, ...)\n",
    "df[f'{YEAR}-07-07T12:09:00{TZ}':f'{YEAR}-07-07T12:18:00{TZ}'][REQD_COLS]  # <-- XXX: pick dates for each month"
   ]
  },
  {
   "cell_type": "code",
   "execution_count": null,
   "id": "328ee7e6-d944-42ff-9b59-ea833081a673",
   "metadata": {},
   "outputs": [],
   "source": [
    "JULY7_MORN, JULY7_NITE = f'{YEAR}-07-07T04:00:00{TZ}', f'{YEAR}-07-07T20:00:00{TZ}'\n",
    "JAN7_MORN, JAN7_NITE = f'{YEAR}-01-07T06:00:00{TZ}', f'{YEAR}-01-07T18:00:00{TZ}'"
   ]
  },
  {
   "cell_type": "code",
   "execution_count": null,
   "id": "82f1e2e3",
   "metadata": {},
   "outputs": [],
   "source": [
    "f, ax = plt.subplots(3, 1, sharex=True, figsize=(8, 12))\n",
    "df[JULY7_MORN:JULY7_NITE][REQD_COLS[:3]].plot(ax=ax[0])\n",
    "ax[0].set_title(f'July 7, {YEAR}, SURFRAD data for {weather_dir}')\n",
    "ax[0].set_ylabel('irradiance $[W/m^2]$')\n",
    "df[JULY7_MORN:JULY7_NITE][REQD_COLS[3]].plot(ax=ax[1])\n",
    "ax[1].set_ylabel('solar zenith $[\\degree]$')\n",
    "df[JULY7_MORN:JULY7_NITE][REQD_COLS[4:]].plot(ax=ax[2])\n",
    "ax[2].set_ylabel('wind speed $[m/s]$,\\nair temperature $[\\degree C]$')\n",
    "f.tight_layout()"
   ]
  },
  {
   "cell_type": "markdown",
   "id": "942fc923",
   "metadata": {},
   "source": [
    "## Data quality\n",
    "Do some basic quality checking:\n",
    "1. no irradiance should be negative\n",
    "2. the DHI has to be the same as\n",
    "    $$GHI - DNI \\cos \\left( \\theta \\right)$$\n",
    "\n",
    "Then plot a sample day and take a look:"
   ]
  },
  {
   "cell_type": "code",
   "execution_count": null,
   "id": "289eb395",
   "metadata": {},
   "outputs": [],
   "source": [
    "dni = np.maximum(0, df['dni'])\n",
    "ghi = np.maximum(0, df['ghi'])\n",
    "dhi = np.maximum(0, df['dhi'])\n",
    "zerad = np.radians(df['solar_zenith'])\n",
    "dhi_calc = pd.Series(np.maximum(0, ghi - dni*np.cos(zerad)), name='DHI calc')\n",
    "irr_check = pd.concat([dni, ghi, dhi, dhi_calc], axis=1)"
   ]
  },
  {
   "cell_type": "code",
   "execution_count": null,
   "id": "baf39b66-0ec9-4141-9bc1-8c873d8fb7dc",
   "metadata": {},
   "outputs": [],
   "source": [
    "# check the calculated zenith from SURFRAD\n",
    "dhi_mbe = 100 * (\n",
    "    sum(dhi.resample('D').sum() - dhi_calc.resample('D').sum())\n",
    "    / sum(dhi.resample('D').sum()))\n",
    "print(f'dhi MBE: {dhi_mbe}%')"
   ]
  },
  {
   "cell_type": "code",
   "execution_count": null,
   "id": "dbc91672",
   "metadata": {},
   "outputs": [],
   "source": [
    "irr_check[JAN7_MORN:JAN7_NITE].plot()  # <-- XXX: pick dates for each month\n",
    "plt.legend()"
   ]
  },
  {
   "cell_type": "code",
   "execution_count": null,
   "id": "bb4aca68",
   "metadata": {},
   "outputs": [],
   "source": [
    "irr_check[JULY7_MORN:JULY7_NITE].plot()  # <-- XXX: pick dates for each month\n",
    "plt.legend()"
   ]
  },
  {
   "cell_type": "markdown",
   "id": "04d3798d",
   "metadata": {
    "tags": []
   },
   "source": [
    "## assembling weather file\n",
    "To model the output we need the following columns:\n",
    "1. datetime as ISO8601 but no nanoseconds or timezone\n",
    "2. GHI\n",
    "2. DHI\n",
    "3. Temp\n",
    "4. WS"
   ]
  },
  {
   "cell_type": "code",
   "execution_count": null,
   "id": "ae79019f",
   "metadata": {},
   "outputs": [],
   "source": [
    "# get other parameters needed for modeling like windspeed and air temp\n",
    "wspd = df['wind_speed']\n",
    "tair = df['temp_air']"
   ]
  },
  {
   "cell_type": "code",
   "execution_count": null,
   "id": "8ed3049a",
   "metadata": {},
   "outputs": [],
   "source": [
    "weather = pd.concat([ghi, dni, dhi, tair, wspd], axis=1)\n",
    "weather.index.name = 'datetime'\n",
    "weather.columns = ['GHI', 'DNI', 'DHI', 'Temp', 'WS']\n",
    "weather.head()"
   ]
  },
  {
   "cell_type": "code",
   "execution_count": null,
   "id": "67fa556e",
   "metadata": {},
   "outputs": [],
   "source": [
    "weather.loc[f'{YEAR}-01-01T08:21:00{TZ}']  # <-- XXX: pick dates for each month"
   ]
  },
  {
   "cell_type": "markdown",
   "id": "7b8dd5a0",
   "metadata": {},
   "source": [
    "## Simulate 5-minute sampled satellite data\n",
    "Choose instantaneous records every five minutes. Choose approximately the middle of the 5-minute sampling interval. Since these are 1-minute timestamps already, the closest to the middle is either the 2nd or 3rd minute."
   ]
  },
  {
   "cell_type": "code",
   "execution_count": null,
   "id": "793af560",
   "metadata": {},
   "outputs": [],
   "source": [
    "weather5inst = weather.resample('5T').first()\n",
    "weather5inst60min = weather5inst.resample('H').mean()\n",
    "weather5inst60min[JAN7_MORN:JAN7_NITE]"
   ]
  },
  {
   "cell_type": "markdown",
   "id": "44363ac2",
   "metadata": {},
   "source": [
    "## Ditto for every 15-minutes\n",
    "Repeat for 15 minute intervals. Same dilemma, the closest record to the middle of the interval is either the 7th or 8th minute."
   ]
  },
  {
   "cell_type": "code",
   "execution_count": null,
   "id": "8fafb65c",
   "metadata": {},
   "outputs": [],
   "source": [
    "weather15inst = weather.resample('15T').first()\n",
    "weather15inst60min = weather15inst.resample('H').mean()\n",
    "weather15inst60min[JAN7_MORN:JAN7_NITE]"
   ]
  },
  {
   "cell_type": "markdown",
   "id": "424c0b8f",
   "metadata": {},
   "source": [
    "## Ditto 30-minutes"
   ]
  },
  {
   "cell_type": "code",
   "execution_count": null,
   "id": "cb28279b",
   "metadata": {},
   "outputs": [],
   "source": [
    "weather30inst = weather.resample('30T').first()\n",
    "weather30inst60min = weather30inst.resample('H').mean()\n",
    "weather30inst60min[JAN7_MORN:JAN7_NITE]"
   ]
  },
  {
   "cell_type": "markdown",
   "id": "c7b4845a-a5ee-4b8b-97e3-8f7eb63bf309",
   "metadata": {},
   "source": [
    "## Ditto 60-minutes"
   ]
  },
  {
   "cell_type": "code",
   "execution_count": null,
   "id": "86b752e4-ba10-4351-99ad-e9ae978a89f2",
   "metadata": {},
   "outputs": [],
   "source": [
    "weather60inst = weather.resample('H').first()\n",
    "weather60inst[JAN7_MORN:JAN7_NITE]"
   ]
  },
  {
   "cell_type": "markdown",
   "id": "2511d534",
   "metadata": {},
   "source": [
    "# Visual Comparison of different sampling intervals\n",
    "How do these look compared to each other? Are they shifted correctly? Are they on the same order? Do they capture the variability?"
   ]
  },
  {
   "cell_type": "code",
   "execution_count": null,
   "id": "9d8736bb",
   "metadata": {},
   "outputs": [],
   "source": [
    "ax = weather60inst[JAN7_MORN:JAN7_NITE]['GHI'].plot(marker='o', ms=16)\n",
    "weather30inst[JAN7_MORN:JAN7_NITE]['GHI'].plot(ax=ax, marker='o', ms=8)\n",
    "weather15inst[JAN7_MORN:JAN7_NITE]['GHI'].plot(ax=ax, marker='o', ms=4)\n",
    "weather5inst[JAN7_MORN:JAN7_NITE]['GHI'].plot(ax=ax, marker='o', ms=2)\n",
    "weather[JAN7_MORN:JAN7_NITE]['GHI'].plot(ax=ax, marker='o', ms=1)\n",
    "plt.legend(['60-inst', '30-inst', '15-inst', '5-inst', '1-min'])\n",
    "plt.title('Instantaneous measurements taken at various sampling rates')\n",
    "plt.ylabel('GHI $[W/m^2]$')"
   ]
  },
  {
   "cell_type": "code",
   "execution_count": null,
   "id": "8191fc80",
   "metadata": {},
   "outputs": [],
   "source": [
    "ax = weather60inst[JULY7_MORN:JULY7_NITE]['GHI'].plot(marker='o', ms=16)\n",
    "weather30inst[JULY7_MORN:JULY7_NITE]['GHI'].plot(ax=ax, marker='o', ms=8)\n",
    "weather15inst[JULY7_MORN:JULY7_NITE]['GHI'].plot(ax=ax, marker='o', ms=4)\n",
    "weather5inst[JULY7_MORN:JULY7_NITE]['GHI'].plot(ax=ax, marker='o', ms=2)\n",
    "weather[JULY7_MORN:JULY7_NITE]['GHI'].plot(ax=ax, marker='o', ms=1)\n",
    "plt.legend(['60-inst', '30-inst', '15-inst', '5-inst', '1-min'])\n",
    "plt.title('Instantaneous measurements taken at various sampling rates')\n",
    "plt.ylabel('GHI $[W/m^2]$')"
   ]
  },
  {
   "cell_type": "markdown",
   "id": "eea92fc9",
   "metadata": {},
   "source": [
    "## Hourly averages from instantaneously sampled"
   ]
  },
  {
   "cell_type": "code",
   "execution_count": null,
   "id": "0f5a20a1",
   "metadata": {},
   "outputs": [],
   "source": [
    "ax = weather.resample('H').mean().shift(freq='30min')[JAN7_MORN:JAN7_NITE]['GHI'].plot(marker='o')\n",
    "weather5inst60min.shift(freq='30min')[JAN7_MORN:JAN7_NITE]['GHI'].plot(ax=ax, marker='o')\n",
    "weather15inst60min.shift(freq='30min')[JAN7_MORN:JAN7_NITE]['GHI'].plot(ax=ax, marker='o')\n",
    "weather30inst60min.shift(freq='30min')[JAN7_MORN:JAN7_NITE]['GHI'].plot(ax=ax, marker='o')\n",
    "plt.legend(['1-inst_60-min', '5-inst_60-min', '15-inst_60-min', '30-inst_60-min'])\n",
    "plt.title('Simulated satellite data averaged hourly from instantaneous measurements at various sampling rates')\n",
    "plt.ylabel('GHI $[W/m^2]$')"
   ]
  },
  {
   "cell_type": "code",
   "execution_count": null,
   "id": "7b75a22e",
   "metadata": {},
   "outputs": [],
   "source": [
    "ax = weather.resample('H').mean().shift(freq='30min')[JULY7_MORN:JULY7_NITE]['GHI'].plot(marker='o')\n",
    "weather5inst60min.shift(freq='30min')[JULY7_MORN:JULY7_NITE]['GHI'].plot(ax=ax, marker='o')\n",
    "weather15inst60min.shift(freq='30min')[JULY7_MORN:JULY7_NITE]['GHI'].plot(ax=ax, marker='o')\n",
    "weather30inst60min.shift(freq='30min')[JULY7_MORN:JULY7_NITE]['GHI'].plot(ax=ax, marker='o')\n",
    "plt.legend(['1-inst_60-min', '5-inst_60-min', '15-inst_60-min', '30-inst_60-min'])\n",
    "plt.title('Simulated satellite data averaged hourly from instantaneous measurements at various sampling rates')\n",
    "plt.ylabel('GHI $[W/m^2]$')"
   ]
  },
  {
   "cell_type": "code",
   "execution_count": null,
   "id": "f9b62e73",
   "metadata": {},
   "outputs": [],
   "source": [
    "weather.resample('H').mean()[JAN7_MORN:JAN7_NITE]"
   ]
  },
  {
   "cell_type": "markdown",
   "id": "505d8bed",
   "metadata": {},
   "source": [
    "## Compare 15-minute time averaged to 15-minute instantaneous\n",
    "How do shorter sampling intervals compare to time averaged values? Starting with 1-minute data, average every 15-minutes and compare to picking a single instantaneous record every 15 minutes, starting at the 7th minute."
   ]
  },
  {
   "cell_type": "code",
   "execution_count": null,
   "id": "6a25e22f",
   "metadata": {},
   "outputs": [],
   "source": [
    "ax = weather.resample('15T').mean().shift(freq='450s')[JAN7_MORN:JAN7_NITE]['GHI'].plot(marker='o')\n",
    "weather15inst[JAN7_MORN:JAN7_NITE]['GHI'].plot(ax=ax, marker='o')\n",
    "plt.legend(['1-inst_15-min', '15-inst'])"
   ]
  },
  {
   "cell_type": "code",
   "execution_count": null,
   "id": "3eced0ca",
   "metadata": {},
   "outputs": [],
   "source": [
    "ax = weather.resample('15T').mean().shift(freq='450s')[JULY7_MORN:JULY7_NITE]['GHI'].plot(marker='o')\n",
    "weather15inst[JULY7_MORN:JULY7_NITE]['GHI'].plot(ax=ax, marker='o')\n",
    "plt.legend(['1-inst_15-min', '15-inst'])"
   ]
  },
  {
   "cell_type": "code",
   "execution_count": null,
   "id": "82888c1e",
   "metadata": {
    "tags": []
   },
   "outputs": [],
   "source": [
    "weather.resample('15T').mean()[f'{YEAR}-07-07T11:00:00{TZ}':f'{YEAR}-07-07T13:00:00{TZ}']"
   ]
  },
  {
   "cell_type": "markdown",
   "id": "e04dd3cc",
   "metadata": {},
   "source": [
    "# Time Averaged\n",
    "This is the original clipping error problem."
   ]
  },
  {
   "cell_type": "code",
   "execution_count": null,
   "id": "9d9d4e04",
   "metadata": {},
   "outputs": [],
   "source": [
    "# timestamps are at the beginning of the interval\n",
    "weather5min = weather.resample('5T').mean()\n",
    "weather15min = weather.resample('15T').mean()\n",
    "weather30min = weather.resample('30T').mean()\n",
    "weather60min = weather.resample('H').mean()"
   ]
  },
  {
   "cell_type": "markdown",
   "id": "c759dad5",
   "metadata": {
    "tags": []
   },
   "source": [
    "# Run Model\n",
    "Now we _finally_ have all the files for 2010 that we need, we can finally run the model and calculate the clipping errors. We'll come back and run it for other years and other sites once we get it working."
   ]
  },
  {
   "cell_type": "code",
   "execution_count": null,
   "id": "bf594d93",
   "metadata": {},
   "outputs": [],
   "source": [
    "# use 250kWac typical central inverter\n",
    "INVERTERS = pvlib.pvsystem.retrieve_sam('CECInverter')\n",
    "INVERTER_250K = INVERTERS['SMA_America__SC250U__480V_']\n",
    "INVERTER_250K"
   ]
  },
  {
   "cell_type": "code",
   "execution_count": null,
   "id": "dac707a0-10fb-49da-aa91-313c5bbd201c",
   "metadata": {},
   "outputs": [],
   "source": [
    "# choose typical front-contact silicon modules\n",
    "CECMODS = pvlib.pvsystem.retrieve_sam('CECMod')\n",
    "# for now, for simplicity, just one mono-silicon module, mono\n",
    "CECMOD_MONO = CECMODS['Canadian_Solar_Inc__CS6X_300M']\n",
    "CECMOD_MONO"
   ]
  },
  {
   "cell_type": "code",
   "execution_count": null,
   "id": "1350c854-5b1a-4bb6-84aa-f3746dc6b869",
   "metadata": {},
   "outputs": [],
   "source": [
    "# tracker positions\n",
    "tracker = pvlib.tracking.singleaxis(solar_zenith, solar_azimuth)\n",
    "surface_tilt = tracker['surface_tilt']\n",
    "surface_azimuth = tracker['surface_azimuth']"
   ]
  },
  {
   "cell_type": "code",
   "execution_count": null,
   "id": "cd58ca2b-effd-47f7-a551-2f37f349f093",
   "metadata": {},
   "outputs": [],
   "source": [
    "# calculate irradiance inputs\n",
    "dni_extra = pvlib.irradiance.get_extra_radiation(TIMES).values"
   ]
  },
  {
   "cell_type": "code",
   "execution_count": null,
   "id": "d3db548e-4061-49b3-9e4f-583110c39abd",
   "metadata": {},
   "outputs": [],
   "source": [
    "# irrad components in plane of array\n",
    "poa_sky_diffuse = pvlib.irradiance.get_sky_diffuse(\n",
    "        surface_tilt, surface_azimuth, solar_zenith, solar_azimuth,\n",
    "        dni, ghi, dhi, dni_extra=dni_extra, model='haydavies')\n",
    "aoi = tracker['aoi']\n",
    "poa_ground_diffuse = pvlib.irradiance.get_ground_diffuse(\n",
    "        surface_tilt, ghi)\n",
    "poa = pvlib.irradiance.poa_components(\n",
    "        aoi, dni, poa_sky_diffuse, poa_ground_diffuse)\n",
    "poa_direct = poa['poa_direct']\n",
    "poa_diffuse = poa['poa_diffuse']\n",
    "poa_global = poa['poa_global']\n",
    "iam = pvlib.iam.ashrae(aoi)\n",
    "effective_irradiance = poa_direct*iam + poa_diffuse"
   ]
  },
  {
   "cell_type": "code",
   "execution_count": null,
   "id": "b0e4dac1-27b6-4bdf-9a3a-92ed27cbc20e",
   "metadata": {},
   "outputs": [],
   "source": [
    "# cell temperature with 10-minute rolling average\n",
    "module_efficiency = CECMOD_MONO.STC / (CECMOD_MONO.A_c*1000)\n",
    "temp_cell = pvlib.temperature.pvsyst_cell(\n",
    "    poa_global, temp_air=tair, wind_speed=wspd, u_c=25.0, u_v=1.2,\n",
    "    module_efficiency=module_efficiency).rolling('10T', center=True).mean()"
   ]
  },
  {
   "cell_type": "code",
   "execution_count": null,
   "id": "04a9bbdd-6b25-4480-b40f-99569b3eeb09",
   "metadata": {},
   "outputs": [],
   "source": [
    "# the goods\n",
    "poa[JAN7_MORN:JAN7_NITE].plot()"
   ]
  },
  {
   "cell_type": "code",
   "execution_count": null,
   "id": "0da553b1-54c7-409c-beb0-8cae843ae5c3",
   "metadata": {},
   "outputs": [],
   "source": [
    "poa[JULY7_MORN:JULY7_NITE].plot()"
   ]
  },
  {
   "cell_type": "code",
   "execution_count": null,
   "id": "7fcf1d74-d70b-4c38-b96d-156b331010e0",
   "metadata": {},
   "outputs": [],
   "source": [
    "# this is the magic\n",
    "cecparams = pvlib.pvsystem.calcparams_cec(\n",
    "        effective_irradiance, temp_cell,\n",
    "        CECMOD_MONO.alpha_sc, CECMOD_MONO.a_ref,\n",
    "        CECMOD_MONO.I_L_ref, CECMOD_MONO.I_o_ref,\n",
    "        CECMOD_MONO.R_sh_ref, CECMOD_MONO.R_s, CECMOD_MONO.Adjust)\n",
    "mpp = pvlib.pvsystem.max_power_point(*cecparams, method='newton')\n",
    "mpp = pd.DataFrame(mpp, index=TIMES)"
   ]
  },
  {
   "cell_type": "code",
   "execution_count": null,
   "id": "8818200a-9a63-4fdf-ad7e-664ae7c54a61",
   "metadata": {},
   "outputs": [],
   "source": [
    "module_efficiency"
   ]
  },
  {
   "cell_type": "code",
   "execution_count": null,
   "id": "88b28994-5046-402f-80fa-e5be97a35aa3",
   "metadata": {},
   "outputs": [],
   "source": [
    "# the goods\n",
    "mpp.p_mp.plot(title='Instantaneous Array MPP Power')\n",
    "plt.hlines(xmin=f'{YEAR}-01-01', xmax=f'{YEAR}-12-31', y=CECMOD_MONO.STC, linestyles='--', colors='black')\n",
    "plt.ylabel('Power [W]');"
   ]
  },
  {
   "cell_type": "code",
   "execution_count": null,
   "id": "0e2a82e6-b849-4b27-8693-b948002c9a2f",
   "metadata": {},
   "outputs": [],
   "source": [
    "temp_ref = 25.0  # degC\n",
    "dc_ac = 1.3\n",
    "# maximum open circuit voltage\n",
    "MAX_VOC = CECMOD_MONO.V_oc_ref + CECMOD_MONO.beta_oc * (tair.min() - temp_ref)\n",
    "STRING_LENGTH = int(INVERTER_250K['Vdcmax'] // MAX_VOC)\n",
    "STRING_VOLTAGE = STRING_LENGTH * MAX_VOC\n",
    "STRING_OUTPUT = CECMOD_MONO.STC * STRING_LENGTH\n",
    "STRING_COUNT = int(dc_ac * INVERTER_250K['Paco'] // STRING_OUTPUT)\n",
    "DC_CAPACITY = STRING_COUNT * STRING_OUTPUT\n",
    "DCAC = DC_CAPACITY / INVERTER_250K['Paco']\n",
    "STRINGING_STATS = {\n",
    "    'max Voc': MAX_VOC, 'string length': STRING_LENGTH, 'string voltage': STRING_VOLTAGE,\n",
    "    'string output': STRING_OUTPUT, 'string count': STRING_COUNT, 'DC capacity': DC_CAPACITY,\n",
    "    'DC/AC': DCAC}\n",
    "STRINGING_STATS"
   ]
  },
  {
   "cell_type": "code",
   "execution_count": null,
   "id": "2176780a-0059-4652-abd5-fe2b5a65d4f6",
   "metadata": {},
   "outputs": [],
   "source": [
    "DC_OUTPUT = mpp.p_mp * STRING_LENGTH * STRING_COUNT\n",
    "AC_OUTPUT = pvlib.inverter.sandia(\n",
    "    mpp.v_mp * STRING_LENGTH,\n",
    "    mpp.p_mp * STRING_LENGTH * STRING_COUNT,\n",
    "    INVERTER_250K)\n",
    "AC_OUTPUT.max()"
   ]
  },
  {
   "cell_type": "code",
   "execution_count": null,
   "id": "dc2c17c9-c69e-4eab-a9f0-737f8009657e",
   "metadata": {},
   "outputs": [],
   "source": [
    "# the goods\n",
    "EARRMPP = 1/60*DC_OUTPUT\n",
    "EGRID = 1/60*AC_OUTPUT\n",
    "ax = EARRMPP.resample('M').sum().plot(label='DC', title='Monthly Energy of 1-minute instances')\n",
    "EGRID.resample('M').sum().plot(ax=ax, label='AC')\n",
    "plt.ylabel('Energy [Wh/month]')\n",
    "plt.legend()"
   ]
  },
  {
   "cell_type": "code",
   "execution_count": null,
   "id": "53feb533-8261-47ae-bfa3-1dfbdb4e78d9",
   "metadata": {},
   "outputs": [],
   "source": [
    "print(f'1-minute instant annual DC & AC energy: {EARRMPP.sum()/1e6, EGRID.sum()/1e6} MWh')"
   ]
  },
  {
   "cell_type": "code",
   "execution_count": null,
   "id": "6d9008be-d01e-496a-a22b-a4f77b05b5e6",
   "metadata": {},
   "outputs": [],
   "source": [
    "AC_OUTPUT[JAN7_MORN:JAN7_NITE].plot()"
   ]
  },
  {
   "cell_type": "code",
   "execution_count": null,
   "id": "718eda1f-0470-4ba9-8c8f-81c2135c71b1",
   "metadata": {},
   "outputs": [],
   "source": [
    "AC_OUTPUT[JULY7_MORN:JULY7_NITE].plot()"
   ]
  },
  {
   "cell_type": "code",
   "execution_count": null,
   "id": "0a543483-55bb-42c7-9553-96ace324d625",
   "metadata": {},
   "outputs": [],
   "source": [
    "temp_cell[JAN7_MORN:JAN7_NITE].plot()"
   ]
  },
  {
   "cell_type": "code",
   "execution_count": null,
   "id": "0b04beda-a3c4-4069-88e6-9507efe8a2c8",
   "metadata": {},
   "outputs": [],
   "source": [
    "temp_cell[JULY7_MORN:JULY7_NITE].plot()"
   ]
  },
  {
   "cell_type": "markdown",
   "id": "dd81ed23-68de-4b4b-ab9c-7baf8e3eb4fa",
   "metadata": {},
   "source": [
    "## More Convenient Functions\n",
    "Create a function to automate the tasks above for all of datasets in the analysis.\n",
    "\n",
    "### PV Model\n",
    "This is a data class that just has the PV module and inverter parameters\n",
    "\n",
    "### `calc_power()`\n",
    "This is a function that outputs the instantaneous DC and AC power at each instant. Multiply output by the timestep in hours to get the energy.\n",
    "\n",
    "### weather files\n",
    "Now we use the convenience functions to loop over all 15 types of weather files.\n",
    "\n",
    "#### instantaneous measurements\n",
    "1. `weather`: 1-minute instantaneous\n",
    "2. `weather5inst`: every 5th minute\n",
    "3. `weather15inst`: every 15th minute\n",
    "4. `weather30inst`: every 30th minute\n",
    "5. `weather60inst`: once an hour\n",
    "\n",
    "#### simulated satellite\n",
    "instantaneous time-averaged to hourly\n",
    "1. `weather60min`: 1-minute instances time-averaged to hourly\n",
    "2. `weather5inst60min`: 5-minute instances time-average to hourly\n",
    "3. `weather15inst60min`: 15-minute instances time-averaged to hourly\n",
    "4. `weather30inst60min`: 30-minute instances time-averaged to hourly\n",
    "5. `weather60inst`: once an hour\n",
    "\n",
    "#### time-averaged\n",
    "1. `weather`: 1-minute instantaneous\n",
    "2. `weather5min`: 5-minute time-averaged\n",
    "3. `weather15min`: 15-minute time-averaged\n",
    "4. `weather30min`: 30-minute time-averaged\n",
    "5. `weather60min`: 60-minute time-averaged"
   ]
  },
  {
   "cell_type": "code",
   "execution_count": null,
   "id": "cda7aacd-6718-46fc-b714-1b1d1af05319",
   "metadata": {},
   "outputs": [],
   "source": [
    "# some more convenient functions\n",
    "\n",
    "@dataclass\n",
    "class PVModel:\n",
    "    latitude: float\n",
    "    longitude: float\n",
    "    elevation: float\n",
    "    pvmodule : dict\n",
    "    inverter : dict\n",
    "    temp_ref: float = 25.0  # degC\n",
    "    dc_ac: float = 1.3\n",
    "\n",
    "    def string_array(self, tair) -> dict:\n",
    "        # maximum open circuit voltage\n",
    "        max_voc = self.pvmodule.V_oc_ref + self.pvmodule.beta_oc * (tair.min() - self.temp_ref)\n",
    "        string_length = int(self.inverter['Vdcmax'] // max_voc)\n",
    "        string_voltage = string_length * max_voc\n",
    "        string_output = self.pvmodule.STC * string_length\n",
    "        string_count = int(dc_ac * self.inverter['Paco'] // string_output)\n",
    "        dc_capacity = string_count * string_output\n",
    "        dc_ac_actual = dc_capacity / self.inverter['Paco']\n",
    "        string_stats = {\n",
    "            'max Voc': max_voc, 'string length': string_length, 'string voltage': string_voltage,\n",
    "            'string output': string_output, 'string count': string_count, 'DC capacity': dc_capacity,\n",
    "            'DC/AC': dc_ac_actual}\n",
    "        return string_stats\n",
    "\n",
    "\n",
    "def calc_power(df, pvmodel):\n",
    "    # unpack weather\n",
    "    times = df.index\n",
    "    dni = df['DNI']\n",
    "    ghi = df['GHI']\n",
    "    dhi = df['DHI']\n",
    "    tair = df['Temp']\n",
    "    wspd = df['WS']\n",
    "\n",
    "    # unpack pvmodel\n",
    "    latitude = pvmodel.latitude\n",
    "    longitude = pvmodel.longitude\n",
    "    pvmodule = pvmodel.pvmodule\n",
    "    inverter = pvmodel.inverter\n",
    "    temp_ref = pvmodel.temp_ref\n",
    "    dc_ac = pvmodel.dc_ac\n",
    "\n",
    "    # string array\n",
    "    string_stats = pvmodel.string_array(tair)\n",
    "    string_length = string_stats['string length']\n",
    "    string_count = string_stats['string count']\n",
    "\n",
    "    # get solar position\n",
    "    center_time = times.freq\n",
    "    if center_time is None:\n",
    "        center_time = times\n",
    "    else:\n",
    "        center_time = times.shift(freq=center_time/2)\n",
    "    sp = pvlib.solarposition.get_solarposition(\n",
    "        center_time, latitude, longitude)\n",
    "    solar_zenith = sp.apparent_zenith.values\n",
    "    solar_azimuth = sp.azimuth.values\n",
    "\n",
    "    # tracker positions\n",
    "    tracker = pvlib.tracking.singleaxis(solar_zenith, solar_azimuth)\n",
    "    surface_tilt = tracker['surface_tilt']\n",
    "    surface_azimuth = tracker['surface_azimuth']\n",
    "\n",
    "    # calculate irradiance inputs\n",
    "    dni_extra = pvlib.irradiance.get_extra_radiation(times).values\n",
    "\n",
    "    # irrad components in plane of array\n",
    "    poa_sky_diffuse = pvlib.irradiance.get_sky_diffuse(\n",
    "        surface_tilt, surface_azimuth, solar_zenith, solar_azimuth,\n",
    "        dni, ghi, dhi, dni_extra=dni_extra, model='haydavies')\n",
    "    aoi = tracker['aoi']\n",
    "    poa_ground_diffuse = pvlib.irradiance.get_ground_diffuse(\n",
    "        surface_tilt, ghi)\n",
    "    poa = pvlib.irradiance.poa_components(\n",
    "        aoi, dni, poa_sky_diffuse, poa_ground_diffuse)\n",
    "    poa_direct = poa['poa_direct']\n",
    "    poa_diffuse = poa['poa_diffuse']\n",
    "    poa_global = poa['poa_global']\n",
    "    iam = pvlib.iam.ashrae(aoi)\n",
    "    effective_irradiance = poa_direct*iam + poa_diffuse\n",
    "\n",
    "    # cell temperature with 10-minute rolling average\n",
    "    module_efficiency = pvmodule.STC / (pvmodule.A_c*1000)\n",
    "    temp_cell = pvlib.temperature.pvsyst_cell(\n",
    "        poa_global, temp_air=tair, wind_speed=wspd, u_c=25.0, u_v=1.2,\n",
    "        module_efficiency=module_efficiency).rolling('10T', center=True).mean()\n",
    "    \n",
    "    # this is the magic\n",
    "    cecparams = pvlib.pvsystem.calcparams_cec(\n",
    "        effective_irradiance, temp_cell,\n",
    "        pvmodule.alpha_sc, pvmodule.a_ref,\n",
    "        pvmodule.I_L_ref, pvmodule.I_o_ref,\n",
    "        pvmodule.R_sh_ref, pvmodule.R_s, pvmodule.Adjust)\n",
    "    mpp = pvlib.pvsystem.max_power_point(*cecparams, method='newton')\n",
    "    mpp = pd.DataFrame(mpp, index=times)\n",
    "\n",
    "    # the goods\n",
    "    dc_output = mpp.p_mp * string_length * string_count\n",
    "    ac_output = pvlib.inverter.sandia(\n",
    "        mpp.v_mp * string_length,\n",
    "        mpp.p_mp * string_length * string_count,\n",
    "        inverter)\n",
    "    return dc_output, ac_output, string_stats"
   ]
  },
  {
   "cell_type": "markdown",
   "id": "fac14a3e-c673-4361-8009-ee37e9b7a7eb",
   "metadata": {},
   "source": [
    "## PV model for Bondville, IL\n",
    "This `PVModel` has the coordinates for Bondville, IL"
   ]
  },
  {
   "cell_type": "code",
   "execution_count": null,
   "id": "afdc630f-d55f-41f9-93ee-e9f61b406650",
   "metadata": {},
   "outputs": [],
   "source": [
    "pvmodel_bon = PVModel(\n",
    "    latitude=LATITUDE,\n",
    "    longitude=LONGITUDE,\n",
    "    elevation=ELEVATION,\n",
    "    pvmodule=CECMOD_MONO,\n",
    "    inverter=INVERTER_250K)"
   ]
  },
  {
   "cell_type": "markdown",
   "id": "6b0a8572-c04d-47ff-a207-89aa35eebc9e",
   "metadata": {},
   "source": [
    "## 5-minute instances\n",
    "test out the function on the 5-minute instances"
   ]
  },
  {
   "cell_type": "code",
   "execution_count": null,
   "id": "daefe9a2-261e-4ed2-a4d3-7ae56dd78e2f",
   "metadata": {},
   "outputs": [],
   "source": [
    "dc_out_5inst, ac_out_5inst, string_stats = calc_power(df=weather5inst, pvmodel=pvmodel_bon)\n",
    "string_stats"
   ]
  },
  {
   "cell_type": "code",
   "execution_count": null,
   "id": "81af18d5-b955-4367-b1b7-eb97206c9c59",
   "metadata": {},
   "outputs": [],
   "source": [
    "# the goods\n",
    "earrmpp_5inst = 5/60*dc_out_5inst\n",
    "egrid_5inst = 5/60*ac_out_5inst\n",
    "ax = earrmpp_5inst.resample('M').sum().plot(label='DC', title='Monthly Energy')\n",
    "egrid_5inst.resample('M').sum().plot(ax=ax, label='AC')\n",
    "plt.ylabel('Energy [Wh/month]')\n",
    "plt.legend()"
   ]
  },
  {
   "cell_type": "code",
   "execution_count": null,
   "id": "a9f602e0-8b94-4aa8-83ab-0414b674f395",
   "metadata": {},
   "outputs": [],
   "source": [
    "print(f'5-minute instant annual DC & AC energy: {earrmpp_5inst.sum()/1e6, egrid_5inst.sum()/1e6} MWh')"
   ]
  },
  {
   "cell_type": "markdown",
   "id": "f90c93ba-276d-4b33-a637-9c369af39e67",
   "metadata": {},
   "source": [
    "## 15-minute instances"
   ]
  },
  {
   "cell_type": "code",
   "execution_count": null,
   "id": "9be76819-d487-4e50-846a-ceff6b4becc6",
   "metadata": {},
   "outputs": [],
   "source": [
    "dc_out_15inst, ac_out_15inst, _ = calc_power(df=weather15inst, pvmodel=pvmodel_bon)"
   ]
  },
  {
   "cell_type": "code",
   "execution_count": null,
   "id": "899c7c6d-6e31-4170-822a-6c290959a3b9",
   "metadata": {},
   "outputs": [],
   "source": [
    "# the goods\n",
    "earrmpp_15inst = 15/60*dc_out_15inst\n",
    "egrid_15inst = 15/60*ac_out_15inst\n",
    "ax = earrmpp_15inst.resample('M').sum().plot(label='DC', title='Monthly Energy')\n",
    "egrid_15inst.resample('M').sum().plot(ax=ax, label='AC')\n",
    "plt.ylabel('Energy [Wh/month]')\n",
    "plt.legend()"
   ]
  },
  {
   "cell_type": "code",
   "execution_count": null,
   "id": "6af8793b-256d-4332-803a-2807de8e2ba6",
   "metadata": {},
   "outputs": [],
   "source": [
    "print(f'15-minute instant annual DC & AC energy: {earrmpp_15inst.sum()/1e6, egrid_15inst.sum()/1e6} MWh')"
   ]
  },
  {
   "cell_type": "markdown",
   "id": "307cdf7b-abed-4d96-b54b-4e9ff28f8b2a",
   "metadata": {},
   "source": [
    "## 30-minute instances"
   ]
  },
  {
   "cell_type": "code",
   "execution_count": null,
   "id": "5619e45b-7833-4777-94c5-c21f13a86e22",
   "metadata": {},
   "outputs": [],
   "source": [
    "dc_out_30inst, ac_out_30inst, _ = calc_power(df=weather30inst, pvmodel=pvmodel_bon)"
   ]
  },
  {
   "cell_type": "code",
   "execution_count": null,
   "id": "c04ca392-d82e-424a-bb67-e6d71742650c",
   "metadata": {},
   "outputs": [],
   "source": [
    "# the goods\n",
    "earrmpp_30inst = 30/60*dc_out_30inst\n",
    "egrid_30inst = 30/60*ac_out_30inst\n",
    "ax = earrmpp_30inst.resample('M').sum().plot(label='DC', title='Monthly Energy')\n",
    "egrid_30inst.resample('M').sum().plot(ax=ax, label='AC')\n",
    "plt.ylabel('Energy [Wh/month]')\n",
    "plt.legend()"
   ]
  },
  {
   "cell_type": "code",
   "execution_count": null,
   "id": "78b9409d-a456-4d3a-b51b-c27be1902e9e",
   "metadata": {},
   "outputs": [],
   "source": [
    "print(f'30-minute instant annual DC & AC energy: {earrmpp_30inst.sum()/1e6, egrid_30inst.sum()/1e6} MWh')"
   ]
  },
  {
   "cell_type": "code",
   "execution_count": null,
   "id": "88a53475-b702-4159-9ed7-0ff0de6f9c1d",
   "metadata": {},
   "outputs": [],
   "source": [
    "plt.plot(\n",
    "    [1, 5, 15, 30],\n",
    "    [(EARRMPP.sum()/1e6, EGRID.sum()/1e6),\n",
    "     (earrmpp_5inst.sum()/1e6, egrid_5inst.sum()/1e6),\n",
    "     (earrmpp_15inst.sum()/1e6, egrid_15inst.sum()/1e6),\n",
    "     (earrmpp_30inst.sum()/1e6, egrid_30inst.sum()/1e6)])"
   ]
  },
  {
   "cell_type": "markdown",
   "id": "5efd8b76-2770-4758-a3e0-cc466f73e3cc",
   "metadata": {},
   "source": [
    "## Automate\n",
    "Run all the cases in a loop\n",
    "1. instantaneous\n",
    "2. satellite simulated\n",
    "3. time-average"
   ]
  },
  {
   "cell_type": "code",
   "execution_count": null,
   "id": "5bd964e6-c872-4bd6-91ee-29064f92deb6",
   "metadata": {},
   "outputs": [],
   "source": [
    "# loop over all instantaneous weather datasets\n",
    "weather_inst = {\n",
    "    1: weather, 5: weather5inst, 15: weather15inst, 30: weather30inst,\n",
    "    60: weather60inst}\n",
    "dc_out_inst = dict.fromkeys(weather_inst)\n",
    "ac_out_inst = dict.fromkeys(weather_inst)\n",
    "earrmpp_inst = dict.fromkeys(weather_inst)\n",
    "egrid_inst = dict.fromkeys(weather_inst)\n",
    "annual_energy_inst = dict.fromkeys(weather_inst)\n",
    "for t, w in weather_inst.items():\n",
    "    dc_out_inst[t], ac_out_inst[t], _ = calc_power(df=w, pvmodel=pvmodel_bon)\n",
    "    earrmpp_inst[t] = t/60*dc_out_inst[t]\n",
    "    egrid_inst[t] = t/60*ac_out_inst[t]\n",
    "    annual_energy_inst[t] = {\n",
    "        'EArrMPP': earrmpp_inst[t].sum()/1e6, 'Egrid': egrid_inst[t].sum()/1e6}"
   ]
  },
  {
   "cell_type": "code",
   "execution_count": null,
   "id": "2f8a886f-42c8-42ef-88ba-2d5af4eda995",
   "metadata": {},
   "outputs": [],
   "source": [
    "annual_energy_inst_df = pd.DataFrame(annual_energy_inst).T\n",
    "display(annual_energy_inst_df)\n",
    "annual_energy_inst_df.plot()"
   ]
  },
  {
   "cell_type": "code",
   "execution_count": null,
   "id": "9302b06c-1f91-4679-8133-416e58fa7e8f",
   "metadata": {},
   "outputs": [],
   "source": [
    "# loop over all instantaneous weather datasets time-averaged to hourly\n",
    "weather_60min = {\n",
    "    1: weather60min, 5: weather5inst60min, 15: weather15inst60min,\n",
    "    30: weather30inst60min, 60: weather60inst}\n",
    "dc_out_60min = dict.fromkeys(weather_60min)\n",
    "ac_out_60min = dict.fromkeys(weather_60min)\n",
    "earrmpp_60min = dict.fromkeys(weather_60min)\n",
    "egrid_60min = dict.fromkeys(weather_60min)\n",
    "annual_energy_60min = dict.fromkeys(weather_60min)\n",
    "for t, w in weather_60min.items():\n",
    "    dc_out_60min[t], ac_out_60min[t], _ = calc_power(df=w, pvmodel=pvmodel_bon)\n",
    "    earrmpp_60min[t] = dc_out_60min[t]\n",
    "    egrid_60min[t] = ac_out_60min[t]\n",
    "    annual_energy_60min[t] = {\n",
    "        'EArrMPP': earrmpp_60min[t].sum()/1e6,\n",
    "        'Egrid': egrid_60min[t].sum()/1e6}"
   ]
  },
  {
   "cell_type": "code",
   "execution_count": null,
   "id": "dfcb2929-ca8d-4278-9849-3d18ba40416f",
   "metadata": {},
   "outputs": [],
   "source": [
    "annual_energy_60min_df = pd.DataFrame(annual_energy_60min).T\n",
    "display(annual_energy_60min_df)\n",
    "annual_energy_60min_df.plot()"
   ]
  },
  {
   "cell_type": "code",
   "execution_count": null,
   "id": "9f4c4ed7-8732-4e0b-960f-1e7abad79b2d",
   "metadata": {},
   "outputs": [],
   "source": [
    "# loop over all time-averaged weather datasets\n",
    "weather_avg = {\n",
    "    1: weather, 5: weather5min, 15: weather15min, 30: weather30min,\n",
    "    60: weather60min}\n",
    "dc_out_avg = dict.fromkeys(weather_avg)\n",
    "ac_out_avg = dict.fromkeys(weather_avg)\n",
    "earrmpp_avg = dict.fromkeys(weather_avg)\n",
    "egrid_avg = dict.fromkeys(weather_avg)\n",
    "annual_energy_avg = dict.fromkeys(weather_avg)\n",
    "for t, w in weather_avg.items():\n",
    "    dc_out_avg[t], ac_out_avg[t], _ = calc_power(df=w, pvmodel=pvmodel_bon)\n",
    "    earrmpp_avg[t] = t/60*dc_out_avg[t]\n",
    "    egrid_avg[t] = t/60*ac_out_avg[t]\n",
    "    annual_energy_avg[t] = {\n",
    "        'EArrMPP': earrmpp_avg[t].sum()/1e6, 'Egrid': egrid_avg[t].sum()/1e6}"
   ]
  },
  {
   "cell_type": "code",
   "execution_count": null,
   "id": "0acbfa42-8b77-4536-8eff-24efa7850d8c",
   "metadata": {},
   "outputs": [],
   "source": [
    "annual_energy_avg_df = pd.DataFrame(annual_energy_avg).T\n",
    "display(annual_energy_avg_df)\n",
    "annual_energy_avg_df.plot()"
   ]
  },
  {
   "cell_type": "code",
   "execution_count": null,
   "id": "db9500cd-59fe-4bb3-8729-b5525a7d7de3",
   "metadata": {},
   "outputs": [],
   "source": [
    "ax = annual_energy_avg_df['Egrid'].plot(label='time-averaged')\n",
    "annual_energy_60min_df['Egrid'].plot(ax=ax, label='satellite-simulated')\n",
    "annual_energy_inst_df['Egrid'].plot(ax=ax, label='instantaneous')\n",
    "plt.xlabel('sampling-time [minutes]')\n",
    "plt.ylabel('$E_{grid}\\ [MWh]$')\n",
    "plt.title(f'{YEAR} {weather_dir}')\n",
    "plt.legend()\n",
    "plt.savefig(f'{CODENAME}{YEAR}.png');"
   ]
  },
  {
   "cell_type": "code",
   "execution_count": null,
   "id": "34ffb804-d457-41fd-98cc-89e070e585ec",
   "metadata": {},
   "outputs": [],
   "source": [
    "ax = annual_energy_avg_df['EArrMPP'].plot(label='time-averaged')\n",
    "annual_energy_60min_df['EArrMPP'].plot(ax=ax, label='satellite-simulated')\n",
    "annual_energy_inst_df['EArrMPP'].plot(ax=ax, label='instantaneous')\n",
    "plt.xlabel('sampling-time [minutes]')\n",
    "plt.ylabel('$E_{ArrMPP}\\ [MWh]$')\n",
    "plt.title(f'{YEAR} {weather_dir}')\n",
    "plt.legend()"
   ]
  },
  {
   "cell_type": "code",
   "execution_count": null,
   "id": "bf82c681-8fdd-40d0-a66a-9d8d9d7f3c03",
   "metadata": {},
   "outputs": [],
   "source": []
  }
 ],
 "metadata": {
  "kernelspec": {
   "display_name": "Python 3 (ipykernel)",
   "language": "python",
   "name": "python3"
  },
  "language_info": {
   "codemirror_mode": {
    "name": "ipython",
    "version": 3
   },
   "file_extension": ".py",
   "mimetype": "text/x-python",
   "name": "python",
   "nbconvert_exporter": "python",
   "pygments_lexer": "ipython3",
   "version": "3.7.12"
  }
 },
 "nbformat": 4,
 "nbformat_minor": 5
}
