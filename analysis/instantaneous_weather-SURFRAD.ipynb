{
 "cells": [
  {
   "cell_type": "markdown",
   "id": "67047cb3",
   "metadata": {},
   "source": [
    "# Effect of instantaneous weather sampling rate on subhourly clipping errors - SURFRAD\n",
    "These notebooks resample the SURFRAD network data at different frequencies to simulate satellite data."
   ]
  },
  {
   "cell_type": "code",
   "execution_count": 1,
   "id": "336cc772",
   "metadata": {},
   "outputs": [],
   "source": [
    "import calendar\n",
    "import pathlib\n",
    "import matplotlib as mpl\n",
    "from matplotlib import pyplot as plt\n",
    "import numpy as np\n",
    "import pandas as pd\n",
    "import pvlib\n",
    "import rdtools\n",
    "import seaborn as sns\n",
    "\n",
    "sns.set(font_scale=1.5, rc={'figure.figsize': (16, 10)})\n",
    "mpl.rcParams['figure.figsize'] = (16, 10)\n",
    "\n",
    "DAYMINUTES = 24*60\n",
    "KELVINS = 273.15\n",
    "MAX_GHI_RATIO = 1.5"
   ]
  },
  {
   "cell_type": "markdown",
   "id": "4185f873-f149-4c36-95f8-b841d7b9791e",
   "metadata": {},
   "source": [
    "## Some useful functions\n",
    "* `read_surfrad_year` just reads all daily files from a yearly surfrad folder\n",
    "* `estimate_air_temp` is for years that have incomplete air temperature data like 1995."
   ]
  },
  {
   "cell_type": "code",
   "execution_count": 2,
   "id": "7fc6ce13",
   "metadata": {},
   "outputs": [],
   "source": [
    "def read_surfrad_year(surfrad_year_path):\n",
    "    data = [pvlib.iotools.read_surfrad(f) for f in surfrad_year_path.iterdir()]\n",
    "    dfs, heads = zip(*data)\n",
    "    df = pd.concat(dfs)\n",
    "    header = heads[0]\n",
    "    return df, header"
   ]
  },
  {
   "cell_type": "code",
   "execution_count": 4,
   "id": "2dac2a06",
   "metadata": {},
   "outputs": [
    {
     "name": "stdout",
     "output_type": "stream",
     "text": [
      "Is there really a \u001b[1m\u001b[91m\"SURFRAD\"\u001b[0m\u001b[0m directory? \u001b[1m\u001b[92mTrue ✓\u001b[0m\u001b[0m\n"
     ]
    }
   ],
   "source": [
    "# get glob of weather files\n",
    "surfrad_dir = pathlib.Path('../../SURFRAD')\n",
    "print(f'Is there really a \\33[1m\\33[91m\"SURFRAD\"\\33[0m\\33[0m directory?'\n",
    "      f' \\33[1m\\33[92m{surfrad_dir.exists()} \\u2713\\33[0m\\33[0m')"
   ]
  },
  {
   "cell_type": "code",
   "execution_count": 5,
   "id": "3727b637",
   "metadata": {},
   "outputs": [
    {
     "name": "stdout",
     "output_type": "stream",
     "text": [
      "Is there really a \u001b[1m\u001b[91m\"..\\..\\SURFRAD\\Bondville_IL\"\u001b[0m\u001b[0m directory? \u001b[1m\u001b[92mTrue ✓\u001b[0m\u001b[0m\n"
     ]
    }
   ],
   "source": [
    "# get glob of Bondville, IL, yearly files\n",
    "weather_dir = \"Bondville_IL\"\n",
    "weather_path = surfrad_dir / weather_dir\n",
    "print(f'Is there really a \\33[1m\\33[91m\"{weather_path}\"\\33[0m\\33[0m directory?'\n",
    "      f' \\33[1m\\33[92m{weather_path.exists()} \\u2713\\33[0m\\33[0m')"
   ]
  },
  {
   "cell_type": "code",
   "execution_count": 6,
   "id": "fb721491",
   "metadata": {},
   "outputs": [
    {
     "data": {
      "text/plain": [
       "['1995',\n",
       " '1996',\n",
       " '1997',\n",
       " '1998',\n",
       " '1999',\n",
       " '2000',\n",
       " '2001',\n",
       " '2002',\n",
       " '2003',\n",
       " '2004',\n",
       " '2005',\n",
       " '2006',\n",
       " '2007',\n",
       " '2008',\n",
       " '2009',\n",
       " '2010',\n",
       " '2011',\n",
       " '2012',\n",
       " '2013',\n",
       " '2014',\n",
       " '2015',\n",
       " '2016',\n",
       " '2017',\n",
       " '2018',\n",
       " '2019',\n",
       " '2020',\n",
       " '2021']"
      ]
     },
     "execution_count": 6,
     "metadata": {},
     "output_type": "execute_result"
    }
   ],
   "source": [
    "# get a glob of years\n",
    "weather_years = weather_path.iterdir()\n",
    "years = [p.parts[-1] for p in weather_years]\n",
    "years"
   ]
  },
  {
   "cell_type": "code",
   "execution_count": 33,
   "id": "c198edd3",
   "metadata": {},
   "outputs": [
    {
     "name": "stdout",
     "output_type": "stream",
     "text": [
      "1995 has 0 out of 175200.0 expected with 3.0-min timestep (year complete = 0%)\n",
      "1996 has 56460 out of 175680.0 expected with 3.0-min timestep (year complete = 32.138%)\n",
      "1997 has 126687 out of 175200.0 expected with 3.0-min timestep (year complete = 72.3099%)\n",
      "1998 has 173314 out of 175200.0 expected with 3.0-min timestep (year complete = 98.9235%)\n",
      "1999 has 116761 out of 175200.0 expected with 3.0-min timestep (year complete = 66.6444%)\n",
      "2000 has 174125 out of 175680.0 expected with 3.0-min timestep (year complete = 99.1149%)\n",
      "2001 has 174752 out of 175200.0 expected with 3.0-min timestep (year complete = 99.7443%)\n",
      "2002 has 172037 out of 175200.0 expected with 3.0-min timestep (year complete = 98.1946%)\n",
      "2003 has 174462 out of 175200.0 expected with 3.0-min timestep (year complete = 99.5788%)\n",
      "2004 has 174274 out of 175680.0 expected with 3.0-min timestep (year complete = 99.1997%)\n",
      "2005 has 171538 out of 175200.0 expected with 3.0-min timestep (year complete = 97.9098%)\n",
      "2006 has 165021 out of 175200.0 expected with 3.0-min timestep (year complete = 94.1901%)\n",
      "2007 has 174594 out of 175200.0 expected with 3.0-min timestep (year complete = 99.6541%)\n",
      "2008 has 174851 out of 175680.0 expected with 3.0-min timestep (year complete = 99.5281%)\n",
      "2009 has 508404 out of 525600.0 expected with 1.0-min timestep (year complete = 96.7283%)\n",
      "2010 has 522545 out of 525600.0 expected with 1.0-min timestep (year complete = 99.4188%)\n",
      "2011 has 523493 out of 525600.0 expected with 1.0-min timestep (year complete = 99.5991%)\n",
      "2012 has 525658 out of 527040.0 expected with 1.0-min timestep (year complete = 99.7378%)\n",
      "2013 has 520918 out of 525600.0 expected with 1.0-min timestep (year complete = 99.1092%)\n",
      "2014 has 522963 out of 525600.0 expected with 1.0-min timestep (year complete = 99.4983%)\n",
      "2015 has 522006 out of 525600.0 expected with 1.0-min timestep (year complete = 99.3162%)\n",
      "2016 has 513433 out of 527040.0 expected with 1.0-min timestep (year complete = 97.4182%)\n",
      "2017 has 520497 out of 525600.0 expected with 1.0-min timestep (year complete = 99.0291%)\n",
      "2018 has 514475 out of 525600.0 expected with 1.0-min timestep (year complete = 97.8834%)\n",
      "2019 has 518692 out of 525600.0 expected with 1.0-min timestep (year complete = 98.6857%)\n",
      "2020 has 480938 out of 527040.0 expected with 1.0-min timestep (year complete = 91.2527%)\n",
      "2021 has 39422 out of 525600.0 expected with 1.0-min timestep (year complete = 7.50038%)\n"
     ]
    }
   ],
   "source": [
    "# how many years are missing data?\n",
    "weather_years = dict.fromkeys(years)\n",
    "for weather_year in weather_path.iterdir():\n",
    "    weather_df, weather_header = read_surfrad_year(weather_year)\n",
    "    year = weather_year.parts[-1]\n",
    "    dt = np.diff(weather_df.index).min().seconds/60\n",
    "    weather_years[year] = weather_df[['ghi', 'dhi', 'dni', 'solar_zenith', 'wind_speed', 'temp_air']].dropna()\n",
    "    num_recs = weather_years[year].shape[0]\n",
    "    daze = 365*24*60/dt\n",
    "    if calendar.isleap(int(year)):\n",
    "        daze += (24*60/dt)\n",
    "    frac_recs = num_recs/daze\n",
    "    print(f'{year} has {num_recs} out of {daze} expected with {dt}-min timestep (year complete = {frac_recs*100:g}%)')"
   ]
  },
  {
   "cell_type": "code",
   "execution_count": 34,
   "id": "0f4d6cf4-a9fc-4264-920e-7af86597fa1b",
   "metadata": {},
   "outputs": [
    {
     "data": {
      "text/plain": [
       "{'name': 'Bondville',\n",
       " 'latitude': 40.05,\n",
       " 'longitude': -88.37,\n",
       " 'elevation': 213.0,\n",
       " 'surfrad_version': 1,\n",
       " 'tz': 'UTC'}"
      ]
     },
     "execution_count": 34,
     "metadata": {},
     "output_type": "execute_result"
    }
   ],
   "source": [
    "weather_header"
   ]
  },
  {
   "cell_type": "code",
   "execution_count": 31,
   "id": "84dd9ff4-2d9c-413d-aee9-1e9f7f2f8a39",
   "metadata": {},
   "outputs": [
    {
     "data": {
      "text/plain": [
       "3.0"
      ]
     },
     "execution_count": 31,
     "metadata": {},
     "output_type": "execute_result"
    }
   ],
   "source": []
  },
  {
   "cell_type": "code",
   "execution_count": 22,
   "id": "53fed9bb-0e89-4672-806e-c12b6d9973d8",
   "metadata": {},
   "outputs": [
    {
     "data": {
      "text/plain": [
       "175200.0"
      ]
     },
     "execution_count": 22,
     "metadata": {},
     "output_type": "execute_result"
    }
   ],
   "source": []
  },
  {
   "cell_type": "code",
   "execution_count": 20,
   "id": "f914840b-c845-4ba9-a007-884cec5ba8a7",
   "metadata": {},
   "outputs": [
    {
     "data": {
      "text/plain": [
       "175200"
      ]
     },
     "metadata": {},
     "output_type": "display_data"
    },
    {
     "data": {
      "text/plain": [
       "DatetimeIndex(['2005-01-01 00:00:00+00:00', '2005-01-01 00:03:00+00:00',\n",
       "               '2005-01-01 00:06:00+00:00', '2005-01-01 00:09:00+00:00',\n",
       "               '2005-01-01 00:12:00+00:00', '2005-01-01 00:15:00+00:00',\n",
       "               '2005-01-01 00:18:00+00:00', '2005-01-01 00:21:00+00:00',\n",
       "               '2005-01-01 00:24:00+00:00', '2005-01-01 00:27:00+00:00',\n",
       "               ...\n",
       "               '2005-12-31 23:30:00+00:00', '2005-12-31 23:33:00+00:00',\n",
       "               '2005-12-31 23:36:00+00:00', '2005-12-31 23:39:00+00:00',\n",
       "               '2005-12-31 23:42:00+00:00', '2005-12-31 23:45:00+00:00',\n",
       "               '2005-12-31 23:48:00+00:00', '2005-12-31 23:51:00+00:00',\n",
       "               '2005-12-31 23:54:00+00:00', '2005-12-31 23:57:00+00:00'],\n",
       "              dtype='datetime64[ns, UTC]', length=175200, freq='3T')"
      ]
     },
     "execution_count": 20,
     "metadata": {},
     "output_type": "execute_result"
    }
   ],
   "source": []
  },
  {
   "cell_type": "code",
   "execution_count": 21,
   "id": "c202a886-bc4e-4f2e-a670-93f31b41f843",
   "metadata": {},
   "outputs": [
    {
     "data": {
      "text/plain": [
       "DatetimeIndex(['2005-01-01 00:00:00+00:00', '2005-01-01 00:03:00+00:00',\n",
       "               '2005-01-01 00:06:00+00:00', '2005-01-01 00:09:00+00:00',\n",
       "               '2005-01-01 00:12:00+00:00', '2005-01-01 00:15:00+00:00',\n",
       "               '2005-01-01 00:18:00+00:00', '2005-01-01 00:21:00+00:00',\n",
       "               '2005-01-01 00:24:00+00:00', '2005-01-01 00:27:00+00:00',\n",
       "               ...\n",
       "               '2005-12-31 23:30:00+00:00', '2005-12-31 23:33:00+00:00',\n",
       "               '2005-12-31 23:36:00+00:00', '2005-12-31 23:39:00+00:00',\n",
       "               '2005-12-31 23:42:00+00:00', '2005-12-31 23:45:00+00:00',\n",
       "               '2005-12-31 23:48:00+00:00', '2005-12-31 23:51:00+00:00',\n",
       "               '2005-12-31 23:54:00+00:00', '2005-12-31 23:57:00+00:00'],\n",
       "              dtype='datetime64[ns, UTC]', length=174861, freq=None)"
      ]
     },
     "execution_count": 21,
     "metadata": {},
     "output_type": "execute_result"
    }
   ],
   "source": []
  },
  {
   "cell_type": "code",
   "execution_count": null,
   "id": "aedf792a",
   "metadata": {},
   "outputs": [],
   "source": []
  },
  {
   "cell_type": "code",
   "execution_count": 35,
   "id": "eff6cfa8",
   "metadata": {},
   "outputs": [
    {
     "data": {
      "text/plain": [
       "{'name': 'Bondville',\n",
       " 'latitude': 40.05,\n",
       " 'longitude': -88.37,\n",
       " 'elevation': 213.0,\n",
       " 'surfrad_version': 1,\n",
       " 'tz': 'UTC'}"
      ]
     },
     "execution_count": 35,
     "metadata": {},
     "output_type": "execute_result"
    }
   ],
   "source": [
    "weather_header"
   ]
  },
  {
   "cell_type": "code",
   "execution_count": 37,
   "id": "4d09e574",
   "metadata": {},
   "outputs": [
    {
     "ename": "KeyboardInterrupt",
     "evalue": "",
     "output_type": "error",
     "traceback": [
      "\u001b[1;31m---------------------------------------------------------------------------\u001b[0m",
      "\u001b[1;31mKeyboardInterrupt\u001b[0m                         Traceback (most recent call last)",
      "\u001b[1;32m~\\AppData\\Local\\Temp\\ipykernel_11280\\2725322065.py\u001b[0m in \u001b[0;36m<module>\u001b[1;34m\u001b[0m\n\u001b[0;32m      1\u001b[0m \u001b[0mf\u001b[0m\u001b[1;33m,\u001b[0m \u001b[0max\u001b[0m \u001b[1;33m=\u001b[0m \u001b[0mplt\u001b[0m\u001b[1;33m.\u001b[0m\u001b[0msubplots\u001b[0m\u001b[1;33m(\u001b[0m\u001b[1;36m1\u001b[0m\u001b[1;33m,\u001b[0m \u001b[1;36m1\u001b[0m\u001b[1;33m)\u001b[0m\u001b[1;33m\u001b[0m\u001b[1;33m\u001b[0m\u001b[0m\n\u001b[0;32m      2\u001b[0m \u001b[1;32mfor\u001b[0m \u001b[0my\u001b[0m\u001b[1;33m,\u001b[0m \u001b[0mdf\u001b[0m \u001b[1;32min\u001b[0m \u001b[0mweather_years\u001b[0m\u001b[1;33m.\u001b[0m\u001b[0mitems\u001b[0m\u001b[1;33m(\u001b[0m\u001b[1;33m)\u001b[0m\u001b[1;33m:\u001b[0m\u001b[1;33m\u001b[0m\u001b[1;33m\u001b[0m\u001b[0m\n\u001b[1;32m----> 3\u001b[1;33m     \u001b[0mdf\u001b[0m\u001b[1;33m.\u001b[0m\u001b[0mtemp_air\u001b[0m\u001b[1;33m.\u001b[0m\u001b[0mplot\u001b[0m\u001b[1;33m(\u001b[0m\u001b[0mlabel\u001b[0m\u001b[1;33m=\u001b[0m\u001b[0my\u001b[0m\u001b[1;33m)\u001b[0m\u001b[1;33m\u001b[0m\u001b[1;33m\u001b[0m\u001b[0m\n\u001b[0m",
      "\u001b[1;32m~\\miniconda3\\envs\\py37cf\\lib\\site-packages\\pandas\\plotting\\_core.py\u001b[0m in \u001b[0;36m__call__\u001b[1;34m(self, *args, **kwargs)\u001b[0m\n\u001b[0;32m    970\u001b[0m                     \u001b[0mdata\u001b[0m\u001b[1;33m.\u001b[0m\u001b[0mcolumns\u001b[0m \u001b[1;33m=\u001b[0m \u001b[0mlabel_name\u001b[0m\u001b[1;33m\u001b[0m\u001b[1;33m\u001b[0m\u001b[0m\n\u001b[0;32m    971\u001b[0m \u001b[1;33m\u001b[0m\u001b[0m\n\u001b[1;32m--> 972\u001b[1;33m         \u001b[1;32mreturn\u001b[0m \u001b[0mplot_backend\u001b[0m\u001b[1;33m.\u001b[0m\u001b[0mplot\u001b[0m\u001b[1;33m(\u001b[0m\u001b[0mdata\u001b[0m\u001b[1;33m,\u001b[0m \u001b[0mkind\u001b[0m\u001b[1;33m=\u001b[0m\u001b[0mkind\u001b[0m\u001b[1;33m,\u001b[0m \u001b[1;33m**\u001b[0m\u001b[0mkwargs\u001b[0m\u001b[1;33m)\u001b[0m\u001b[1;33m\u001b[0m\u001b[1;33m\u001b[0m\u001b[0m\n\u001b[0m\u001b[0;32m    973\u001b[0m \u001b[1;33m\u001b[0m\u001b[0m\n\u001b[0;32m    974\u001b[0m     \u001b[0m__call__\u001b[0m\u001b[1;33m.\u001b[0m\u001b[0m__doc__\u001b[0m \u001b[1;33m=\u001b[0m \u001b[0m__doc__\u001b[0m\u001b[1;33m\u001b[0m\u001b[1;33m\u001b[0m\u001b[0m\n",
      "\u001b[1;32m~\\miniconda3\\envs\\py37cf\\lib\\site-packages\\pandas\\plotting\\_matplotlib\\__init__.py\u001b[0m in \u001b[0;36mplot\u001b[1;34m(data, kind, **kwargs)\u001b[0m\n\u001b[0;32m     69\u001b[0m             \u001b[0mkwargs\u001b[0m\u001b[1;33m[\u001b[0m\u001b[1;34m\"ax\"\u001b[0m\u001b[1;33m]\u001b[0m \u001b[1;33m=\u001b[0m \u001b[0mgetattr\u001b[0m\u001b[1;33m(\u001b[0m\u001b[0max\u001b[0m\u001b[1;33m,\u001b[0m \u001b[1;34m\"left_ax\"\u001b[0m\u001b[1;33m,\u001b[0m \u001b[0max\u001b[0m\u001b[1;33m)\u001b[0m\u001b[1;33m\u001b[0m\u001b[1;33m\u001b[0m\u001b[0m\n\u001b[0;32m     70\u001b[0m     \u001b[0mplot_obj\u001b[0m \u001b[1;33m=\u001b[0m \u001b[0mPLOT_CLASSES\u001b[0m\u001b[1;33m[\u001b[0m\u001b[0mkind\u001b[0m\u001b[1;33m]\u001b[0m\u001b[1;33m(\u001b[0m\u001b[0mdata\u001b[0m\u001b[1;33m,\u001b[0m \u001b[1;33m**\u001b[0m\u001b[0mkwargs\u001b[0m\u001b[1;33m)\u001b[0m\u001b[1;33m\u001b[0m\u001b[1;33m\u001b[0m\u001b[0m\n\u001b[1;32m---> 71\u001b[1;33m     \u001b[0mplot_obj\u001b[0m\u001b[1;33m.\u001b[0m\u001b[0mgenerate\u001b[0m\u001b[1;33m(\u001b[0m\u001b[1;33m)\u001b[0m\u001b[1;33m\u001b[0m\u001b[1;33m\u001b[0m\u001b[0m\n\u001b[0m\u001b[0;32m     72\u001b[0m     \u001b[0mplot_obj\u001b[0m\u001b[1;33m.\u001b[0m\u001b[0mdraw\u001b[0m\u001b[1;33m(\u001b[0m\u001b[1;33m)\u001b[0m\u001b[1;33m\u001b[0m\u001b[1;33m\u001b[0m\u001b[0m\n\u001b[0;32m     73\u001b[0m     \u001b[1;32mreturn\u001b[0m \u001b[0mplot_obj\u001b[0m\u001b[1;33m.\u001b[0m\u001b[0mresult\u001b[0m\u001b[1;33m\u001b[0m\u001b[1;33m\u001b[0m\u001b[0m\n",
      "\u001b[1;32m~\\miniconda3\\envs\\py37cf\\lib\\site-packages\\pandas\\plotting\\_matplotlib\\core.py\u001b[0m in \u001b[0;36mgenerate\u001b[1;34m(self)\u001b[0m\n\u001b[0;32m    286\u001b[0m         \u001b[0mself\u001b[0m\u001b[1;33m.\u001b[0m\u001b[0m_compute_plot_data\u001b[0m\u001b[1;33m(\u001b[0m\u001b[1;33m)\u001b[0m\u001b[1;33m\u001b[0m\u001b[1;33m\u001b[0m\u001b[0m\n\u001b[0;32m    287\u001b[0m         \u001b[0mself\u001b[0m\u001b[1;33m.\u001b[0m\u001b[0m_setup_subplots\u001b[0m\u001b[1;33m(\u001b[0m\u001b[1;33m)\u001b[0m\u001b[1;33m\u001b[0m\u001b[1;33m\u001b[0m\u001b[0m\n\u001b[1;32m--> 288\u001b[1;33m         \u001b[0mself\u001b[0m\u001b[1;33m.\u001b[0m\u001b[0m_make_plot\u001b[0m\u001b[1;33m(\u001b[0m\u001b[1;33m)\u001b[0m\u001b[1;33m\u001b[0m\u001b[1;33m\u001b[0m\u001b[0m\n\u001b[0m\u001b[0;32m    289\u001b[0m         \u001b[0mself\u001b[0m\u001b[1;33m.\u001b[0m\u001b[0m_add_table\u001b[0m\u001b[1;33m(\u001b[0m\u001b[1;33m)\u001b[0m\u001b[1;33m\u001b[0m\u001b[1;33m\u001b[0m\u001b[0m\n\u001b[0;32m    290\u001b[0m         \u001b[0mself\u001b[0m\u001b[1;33m.\u001b[0m\u001b[0m_make_legend\u001b[0m\u001b[1;33m(\u001b[0m\u001b[1;33m)\u001b[0m\u001b[1;33m\u001b[0m\u001b[1;33m\u001b[0m\u001b[0m\n",
      "\u001b[1;32m~\\miniconda3\\envs\\py37cf\\lib\\site-packages\\pandas\\plotting\\_matplotlib\\core.py\u001b[0m in \u001b[0;36m_make_plot\u001b[1;34m(self)\u001b[0m\n\u001b[0;32m   1188\u001b[0m                 \u001b[0mstacking_id\u001b[0m\u001b[1;33m=\u001b[0m\u001b[0mstacking_id\u001b[0m\u001b[1;33m,\u001b[0m\u001b[1;33m\u001b[0m\u001b[1;33m\u001b[0m\u001b[0m\n\u001b[0;32m   1189\u001b[0m                 \u001b[0mis_errorbar\u001b[0m\u001b[1;33m=\u001b[0m\u001b[0mis_errorbar\u001b[0m\u001b[1;33m,\u001b[0m\u001b[1;33m\u001b[0m\u001b[1;33m\u001b[0m\u001b[0m\n\u001b[1;32m-> 1190\u001b[1;33m                 \u001b[1;33m**\u001b[0m\u001b[0mkwds\u001b[0m\u001b[1;33m,\u001b[0m\u001b[1;33m\u001b[0m\u001b[1;33m\u001b[0m\u001b[0m\n\u001b[0m\u001b[0;32m   1191\u001b[0m             )\n\u001b[0;32m   1192\u001b[0m             \u001b[0mself\u001b[0m\u001b[1;33m.\u001b[0m\u001b[0m_append_legend_handles_labels\u001b[0m\u001b[1;33m(\u001b[0m\u001b[0mnewlines\u001b[0m\u001b[1;33m[\u001b[0m\u001b[1;36m0\u001b[0m\u001b[1;33m]\u001b[0m\u001b[1;33m,\u001b[0m \u001b[0mlabel\u001b[0m\u001b[1;33m)\u001b[0m\u001b[1;33m\u001b[0m\u001b[1;33m\u001b[0m\u001b[0m\n",
      "\u001b[1;32m~\\miniconda3\\envs\\py37cf\\lib\\site-packages\\pandas\\plotting\\_matplotlib\\core.py\u001b[0m in \u001b[0;36m_plot\u001b[1;34m(cls, ax, x, y, style, column_num, stacking_id, **kwds)\u001b[0m\n\u001b[0;32m   1209\u001b[0m             \u001b[0mcls\u001b[0m\u001b[1;33m.\u001b[0m\u001b[0m_initialize_stacker\u001b[0m\u001b[1;33m(\u001b[0m\u001b[0max\u001b[0m\u001b[1;33m,\u001b[0m \u001b[0mstacking_id\u001b[0m\u001b[1;33m,\u001b[0m \u001b[0mlen\u001b[0m\u001b[1;33m(\u001b[0m\u001b[0my\u001b[0m\u001b[1;33m)\u001b[0m\u001b[1;33m)\u001b[0m\u001b[1;33m\u001b[0m\u001b[1;33m\u001b[0m\u001b[0m\n\u001b[0;32m   1210\u001b[0m         \u001b[0my_values\u001b[0m \u001b[1;33m=\u001b[0m \u001b[0mcls\u001b[0m\u001b[1;33m.\u001b[0m\u001b[0m_get_stacked_values\u001b[0m\u001b[1;33m(\u001b[0m\u001b[0max\u001b[0m\u001b[1;33m,\u001b[0m \u001b[0mstacking_id\u001b[0m\u001b[1;33m,\u001b[0m \u001b[0my\u001b[0m\u001b[1;33m,\u001b[0m \u001b[0mkwds\u001b[0m\u001b[1;33m[\u001b[0m\u001b[1;34m\"label\"\u001b[0m\u001b[1;33m]\u001b[0m\u001b[1;33m)\u001b[0m\u001b[1;33m\u001b[0m\u001b[1;33m\u001b[0m\u001b[0m\n\u001b[1;32m-> 1211\u001b[1;33m         \u001b[0mlines\u001b[0m \u001b[1;33m=\u001b[0m \u001b[0mMPLPlot\u001b[0m\u001b[1;33m.\u001b[0m\u001b[0m_plot\u001b[0m\u001b[1;33m(\u001b[0m\u001b[0max\u001b[0m\u001b[1;33m,\u001b[0m \u001b[0mx\u001b[0m\u001b[1;33m,\u001b[0m \u001b[0my_values\u001b[0m\u001b[1;33m,\u001b[0m \u001b[0mstyle\u001b[0m\u001b[1;33m=\u001b[0m\u001b[0mstyle\u001b[0m\u001b[1;33m,\u001b[0m \u001b[1;33m**\u001b[0m\u001b[0mkwds\u001b[0m\u001b[1;33m)\u001b[0m\u001b[1;33m\u001b[0m\u001b[1;33m\u001b[0m\u001b[0m\n\u001b[0m\u001b[0;32m   1212\u001b[0m         \u001b[0mcls\u001b[0m\u001b[1;33m.\u001b[0m\u001b[0m_update_stacker\u001b[0m\u001b[1;33m(\u001b[0m\u001b[0max\u001b[0m\u001b[1;33m,\u001b[0m \u001b[0mstacking_id\u001b[0m\u001b[1;33m,\u001b[0m \u001b[0my\u001b[0m\u001b[1;33m)\u001b[0m\u001b[1;33m\u001b[0m\u001b[1;33m\u001b[0m\u001b[0m\n\u001b[0;32m   1213\u001b[0m         \u001b[1;32mreturn\u001b[0m \u001b[0mlines\u001b[0m\u001b[1;33m\u001b[0m\u001b[1;33m\u001b[0m\u001b[0m\n",
      "\u001b[1;32m~\\miniconda3\\envs\\py37cf\\lib\\site-packages\\pandas\\plotting\\_matplotlib\\converter.py\u001b[0m in \u001b[0;36mwrapper\u001b[1;34m(*args, **kwargs)\u001b[0m\n\u001b[0;32m     85\u001b[0m     \u001b[1;32mdef\u001b[0m \u001b[0mwrapper\u001b[0m\u001b[1;33m(\u001b[0m\u001b[1;33m*\u001b[0m\u001b[0margs\u001b[0m\u001b[1;33m,\u001b[0m \u001b[1;33m**\u001b[0m\u001b[0mkwargs\u001b[0m\u001b[1;33m)\u001b[0m\u001b[1;33m:\u001b[0m\u001b[1;33m\u001b[0m\u001b[1;33m\u001b[0m\u001b[0m\n\u001b[0;32m     86\u001b[0m         \u001b[1;32mwith\u001b[0m \u001b[0mpandas_converters\u001b[0m\u001b[1;33m(\u001b[0m\u001b[1;33m)\u001b[0m\u001b[1;33m:\u001b[0m\u001b[1;33m\u001b[0m\u001b[1;33m\u001b[0m\u001b[0m\n\u001b[1;32m---> 87\u001b[1;33m             \u001b[1;32mreturn\u001b[0m \u001b[0mfunc\u001b[0m\u001b[1;33m(\u001b[0m\u001b[1;33m*\u001b[0m\u001b[0margs\u001b[0m\u001b[1;33m,\u001b[0m \u001b[1;33m**\u001b[0m\u001b[0mkwargs\u001b[0m\u001b[1;33m)\u001b[0m\u001b[1;33m\u001b[0m\u001b[1;33m\u001b[0m\u001b[0m\n\u001b[0m\u001b[0;32m     88\u001b[0m \u001b[1;33m\u001b[0m\u001b[0m\n\u001b[0;32m     89\u001b[0m     \u001b[1;32mreturn\u001b[0m \u001b[0mwrapper\u001b[0m\u001b[1;33m\u001b[0m\u001b[1;33m\u001b[0m\u001b[0m\n",
      "\u001b[1;32m~\\miniconda3\\envs\\py37cf\\lib\\site-packages\\pandas\\plotting\\_matplotlib\\core.py\u001b[0m in \u001b[0;36m_plot\u001b[1;34m(cls, ax, x, y, style, is_errorbar, **kwds)\u001b[0m\n\u001b[0;32m    709\u001b[0m             \u001b[1;31m# prevent style kwarg from going to errorbar, where it is unsupported\u001b[0m\u001b[1;33m\u001b[0m\u001b[1;33m\u001b[0m\u001b[1;33m\u001b[0m\u001b[0m\n\u001b[0;32m    710\u001b[0m             \u001b[0margs\u001b[0m \u001b[1;33m=\u001b[0m \u001b[1;33m(\u001b[0m\u001b[0mx\u001b[0m\u001b[1;33m,\u001b[0m \u001b[0my\u001b[0m\u001b[1;33m,\u001b[0m \u001b[0mstyle\u001b[0m\u001b[1;33m)\u001b[0m \u001b[1;32mif\u001b[0m \u001b[0mstyle\u001b[0m \u001b[1;32mis\u001b[0m \u001b[1;32mnot\u001b[0m \u001b[1;32mNone\u001b[0m \u001b[1;32melse\u001b[0m \u001b[1;33m(\u001b[0m\u001b[0mx\u001b[0m\u001b[1;33m,\u001b[0m \u001b[0my\u001b[0m\u001b[1;33m)\u001b[0m\u001b[1;33m\u001b[0m\u001b[1;33m\u001b[0m\u001b[0m\n\u001b[1;32m--> 711\u001b[1;33m             \u001b[1;32mreturn\u001b[0m \u001b[0max\u001b[0m\u001b[1;33m.\u001b[0m\u001b[0mplot\u001b[0m\u001b[1;33m(\u001b[0m\u001b[1;33m*\u001b[0m\u001b[0margs\u001b[0m\u001b[1;33m,\u001b[0m \u001b[1;33m**\u001b[0m\u001b[0mkwds\u001b[0m\u001b[1;33m)\u001b[0m\u001b[1;33m\u001b[0m\u001b[1;33m\u001b[0m\u001b[0m\n\u001b[0m\u001b[0;32m    712\u001b[0m \u001b[1;33m\u001b[0m\u001b[0m\n\u001b[0;32m    713\u001b[0m     \u001b[1;32mdef\u001b[0m \u001b[0m_get_index_name\u001b[0m\u001b[1;33m(\u001b[0m\u001b[0mself\u001b[0m\u001b[1;33m)\u001b[0m \u001b[1;33m->\u001b[0m \u001b[0mstr\u001b[0m \u001b[1;33m|\u001b[0m \u001b[1;32mNone\u001b[0m\u001b[1;33m:\u001b[0m\u001b[1;33m\u001b[0m\u001b[1;33m\u001b[0m\u001b[0m\n",
      "\u001b[1;32m~\\miniconda3\\envs\\py37cf\\lib\\site-packages\\matplotlib\\axes\\_axes.py\u001b[0m in \u001b[0;36mplot\u001b[1;34m(self, scalex, scaley, data, *args, **kwargs)\u001b[0m\n\u001b[0;32m   1632\u001b[0m         \u001b[0mlines\u001b[0m \u001b[1;33m=\u001b[0m \u001b[1;33m[\u001b[0m\u001b[1;33m*\u001b[0m\u001b[0mself\u001b[0m\u001b[1;33m.\u001b[0m\u001b[0m_get_lines\u001b[0m\u001b[1;33m(\u001b[0m\u001b[1;33m*\u001b[0m\u001b[0margs\u001b[0m\u001b[1;33m,\u001b[0m \u001b[0mdata\u001b[0m\u001b[1;33m=\u001b[0m\u001b[0mdata\u001b[0m\u001b[1;33m,\u001b[0m \u001b[1;33m**\u001b[0m\u001b[0mkwargs\u001b[0m\u001b[1;33m)\u001b[0m\u001b[1;33m]\u001b[0m\u001b[1;33m\u001b[0m\u001b[1;33m\u001b[0m\u001b[0m\n\u001b[0;32m   1633\u001b[0m         \u001b[1;32mfor\u001b[0m \u001b[0mline\u001b[0m \u001b[1;32min\u001b[0m \u001b[0mlines\u001b[0m\u001b[1;33m:\u001b[0m\u001b[1;33m\u001b[0m\u001b[1;33m\u001b[0m\u001b[0m\n\u001b[1;32m-> 1634\u001b[1;33m             \u001b[0mself\u001b[0m\u001b[1;33m.\u001b[0m\u001b[0madd_line\u001b[0m\u001b[1;33m(\u001b[0m\u001b[0mline\u001b[0m\u001b[1;33m)\u001b[0m\u001b[1;33m\u001b[0m\u001b[1;33m\u001b[0m\u001b[0m\n\u001b[0m\u001b[0;32m   1635\u001b[0m         \u001b[0mself\u001b[0m\u001b[1;33m.\u001b[0m\u001b[0m_request_autoscale_view\u001b[0m\u001b[1;33m(\u001b[0m\u001b[0mscalex\u001b[0m\u001b[1;33m=\u001b[0m\u001b[0mscalex\u001b[0m\u001b[1;33m,\u001b[0m \u001b[0mscaley\u001b[0m\u001b[1;33m=\u001b[0m\u001b[0mscaley\u001b[0m\u001b[1;33m)\u001b[0m\u001b[1;33m\u001b[0m\u001b[1;33m\u001b[0m\u001b[0m\n\u001b[0;32m   1636\u001b[0m         \u001b[1;32mreturn\u001b[0m \u001b[0mlines\u001b[0m\u001b[1;33m\u001b[0m\u001b[1;33m\u001b[0m\u001b[0m\n",
      "\u001b[1;32m~\\miniconda3\\envs\\py37cf\\lib\\site-packages\\matplotlib\\axes\\_base.py\u001b[0m in \u001b[0;36madd_line\u001b[1;34m(self, line)\u001b[0m\n\u001b[0;32m   2286\u001b[0m             \u001b[0mline\u001b[0m\u001b[1;33m.\u001b[0m\u001b[0mset_clip_path\u001b[0m\u001b[1;33m(\u001b[0m\u001b[0mself\u001b[0m\u001b[1;33m.\u001b[0m\u001b[0mpatch\u001b[0m\u001b[1;33m)\u001b[0m\u001b[1;33m\u001b[0m\u001b[1;33m\u001b[0m\u001b[0m\n\u001b[0;32m   2287\u001b[0m \u001b[1;33m\u001b[0m\u001b[0m\n\u001b[1;32m-> 2288\u001b[1;33m         \u001b[0mself\u001b[0m\u001b[1;33m.\u001b[0m\u001b[0m_update_line_limits\u001b[0m\u001b[1;33m(\u001b[0m\u001b[0mline\u001b[0m\u001b[1;33m)\u001b[0m\u001b[1;33m\u001b[0m\u001b[1;33m\u001b[0m\u001b[0m\n\u001b[0m\u001b[0;32m   2289\u001b[0m         \u001b[1;32mif\u001b[0m \u001b[1;32mnot\u001b[0m \u001b[0mline\u001b[0m\u001b[1;33m.\u001b[0m\u001b[0mget_label\u001b[0m\u001b[1;33m(\u001b[0m\u001b[1;33m)\u001b[0m\u001b[1;33m:\u001b[0m\u001b[1;33m\u001b[0m\u001b[1;33m\u001b[0m\u001b[0m\n\u001b[0;32m   2290\u001b[0m             \u001b[0mline\u001b[0m\u001b[1;33m.\u001b[0m\u001b[0mset_label\u001b[0m\u001b[1;33m(\u001b[0m\u001b[1;34mf'_child{len(self._children)}'\u001b[0m\u001b[1;33m)\u001b[0m\u001b[1;33m\u001b[0m\u001b[1;33m\u001b[0m\u001b[0m\n",
      "\u001b[1;32m~\\miniconda3\\envs\\py37cf\\lib\\site-packages\\matplotlib\\axes\\_base.py\u001b[0m in \u001b[0;36m_update_line_limits\u001b[1;34m(self, line)\u001b[0m\n\u001b[0;32m   2309\u001b[0m         \u001b[0mFigures\u001b[0m \u001b[0mout\u001b[0m \u001b[0mthe\u001b[0m \u001b[0mdata\u001b[0m \u001b[0mlimit\u001b[0m \u001b[0mof\u001b[0m \u001b[0mthe\u001b[0m \u001b[0mgiven\u001b[0m \u001b[0mline\u001b[0m\u001b[1;33m,\u001b[0m \u001b[0mupdating\u001b[0m \u001b[0mself\u001b[0m\u001b[1;33m.\u001b[0m\u001b[0mdataLim\u001b[0m\u001b[1;33m.\u001b[0m\u001b[1;33m\u001b[0m\u001b[1;33m\u001b[0m\u001b[0m\n\u001b[0;32m   2310\u001b[0m         \"\"\"\n\u001b[1;32m-> 2311\u001b[1;33m         \u001b[0mpath\u001b[0m \u001b[1;33m=\u001b[0m \u001b[0mline\u001b[0m\u001b[1;33m.\u001b[0m\u001b[0mget_path\u001b[0m\u001b[1;33m(\u001b[0m\u001b[1;33m)\u001b[0m\u001b[1;33m\u001b[0m\u001b[1;33m\u001b[0m\u001b[0m\n\u001b[0m\u001b[0;32m   2312\u001b[0m         \u001b[1;32mif\u001b[0m \u001b[0mpath\u001b[0m\u001b[1;33m.\u001b[0m\u001b[0mvertices\u001b[0m\u001b[1;33m.\u001b[0m\u001b[0msize\u001b[0m \u001b[1;33m==\u001b[0m \u001b[1;36m0\u001b[0m\u001b[1;33m:\u001b[0m\u001b[1;33m\u001b[0m\u001b[1;33m\u001b[0m\u001b[0m\n\u001b[0;32m   2313\u001b[0m             \u001b[1;32mreturn\u001b[0m\u001b[1;33m\u001b[0m\u001b[1;33m\u001b[0m\u001b[0m\n",
      "\u001b[1;32m~\\miniconda3\\envs\\py37cf\\lib\\site-packages\\matplotlib\\lines.py\u001b[0m in \u001b[0;36mget_path\u001b[1;34m(self)\u001b[0m\n\u001b[0;32m    997\u001b[0m         \u001b[1;34m\"\"\"Return the `~matplotlib.path.Path` associated with this line.\"\"\"\u001b[0m\u001b[1;33m\u001b[0m\u001b[1;33m\u001b[0m\u001b[0m\n\u001b[0;32m    998\u001b[0m         \u001b[1;32mif\u001b[0m \u001b[0mself\u001b[0m\u001b[1;33m.\u001b[0m\u001b[0m_invalidy\u001b[0m \u001b[1;32mor\u001b[0m \u001b[0mself\u001b[0m\u001b[1;33m.\u001b[0m\u001b[0m_invalidx\u001b[0m\u001b[1;33m:\u001b[0m\u001b[1;33m\u001b[0m\u001b[1;33m\u001b[0m\u001b[0m\n\u001b[1;32m--> 999\u001b[1;33m             \u001b[0mself\u001b[0m\u001b[1;33m.\u001b[0m\u001b[0mrecache\u001b[0m\u001b[1;33m(\u001b[0m\u001b[1;33m)\u001b[0m\u001b[1;33m\u001b[0m\u001b[1;33m\u001b[0m\u001b[0m\n\u001b[0m\u001b[0;32m   1000\u001b[0m         \u001b[1;32mreturn\u001b[0m \u001b[0mself\u001b[0m\u001b[1;33m.\u001b[0m\u001b[0m_path\u001b[0m\u001b[1;33m\u001b[0m\u001b[1;33m\u001b[0m\u001b[0m\n\u001b[0;32m   1001\u001b[0m \u001b[1;33m\u001b[0m\u001b[0m\n",
      "\u001b[1;32m~\\miniconda3\\envs\\py37cf\\lib\\site-packages\\matplotlib\\lines.py\u001b[0m in \u001b[0;36mrecache\u001b[1;34m(self, always)\u001b[0m\n\u001b[0;32m    649\u001b[0m     \u001b[1;32mdef\u001b[0m \u001b[0mrecache\u001b[0m\u001b[1;33m(\u001b[0m\u001b[0mself\u001b[0m\u001b[1;33m,\u001b[0m \u001b[0malways\u001b[0m\u001b[1;33m=\u001b[0m\u001b[1;32mFalse\u001b[0m\u001b[1;33m)\u001b[0m\u001b[1;33m:\u001b[0m\u001b[1;33m\u001b[0m\u001b[1;33m\u001b[0m\u001b[0m\n\u001b[0;32m    650\u001b[0m         \u001b[1;32mif\u001b[0m \u001b[0malways\u001b[0m \u001b[1;32mor\u001b[0m \u001b[0mself\u001b[0m\u001b[1;33m.\u001b[0m\u001b[0m_invalidx\u001b[0m\u001b[1;33m:\u001b[0m\u001b[1;33m\u001b[0m\u001b[1;33m\u001b[0m\u001b[0m\n\u001b[1;32m--> 651\u001b[1;33m             \u001b[0mxconv\u001b[0m \u001b[1;33m=\u001b[0m \u001b[0mself\u001b[0m\u001b[1;33m.\u001b[0m\u001b[0mconvert_xunits\u001b[0m\u001b[1;33m(\u001b[0m\u001b[0mself\u001b[0m\u001b[1;33m.\u001b[0m\u001b[0m_xorig\u001b[0m\u001b[1;33m)\u001b[0m\u001b[1;33m\u001b[0m\u001b[1;33m\u001b[0m\u001b[0m\n\u001b[0m\u001b[0;32m    652\u001b[0m             \u001b[0mx\u001b[0m \u001b[1;33m=\u001b[0m \u001b[0m_to_unmasked_float_array\u001b[0m\u001b[1;33m(\u001b[0m\u001b[0mxconv\u001b[0m\u001b[1;33m)\u001b[0m\u001b[1;33m.\u001b[0m\u001b[0mravel\u001b[0m\u001b[1;33m(\u001b[0m\u001b[1;33m)\u001b[0m\u001b[1;33m\u001b[0m\u001b[1;33m\u001b[0m\u001b[0m\n\u001b[0;32m    653\u001b[0m         \u001b[1;32melse\u001b[0m\u001b[1;33m:\u001b[0m\u001b[1;33m\u001b[0m\u001b[1;33m\u001b[0m\u001b[0m\n",
      "\u001b[1;32m~\\miniconda3\\envs\\py37cf\\lib\\site-packages\\matplotlib\\artist.py\u001b[0m in \u001b[0;36mconvert_xunits\u001b[1;34m(self, x)\u001b[0m\n\u001b[0;32m    250\u001b[0m         \u001b[1;32mif\u001b[0m \u001b[0max\u001b[0m \u001b[1;32mis\u001b[0m \u001b[1;32mNone\u001b[0m \u001b[1;32mor\u001b[0m \u001b[0max\u001b[0m\u001b[1;33m.\u001b[0m\u001b[0mxaxis\u001b[0m \u001b[1;32mis\u001b[0m \u001b[1;32mNone\u001b[0m\u001b[1;33m:\u001b[0m\u001b[1;33m\u001b[0m\u001b[1;33m\u001b[0m\u001b[0m\n\u001b[0;32m    251\u001b[0m             \u001b[1;32mreturn\u001b[0m \u001b[0mx\u001b[0m\u001b[1;33m\u001b[0m\u001b[1;33m\u001b[0m\u001b[0m\n\u001b[1;32m--> 252\u001b[1;33m         \u001b[1;32mreturn\u001b[0m \u001b[0max\u001b[0m\u001b[1;33m.\u001b[0m\u001b[0mxaxis\u001b[0m\u001b[1;33m.\u001b[0m\u001b[0mconvert_units\u001b[0m\u001b[1;33m(\u001b[0m\u001b[0mx\u001b[0m\u001b[1;33m)\u001b[0m\u001b[1;33m\u001b[0m\u001b[1;33m\u001b[0m\u001b[0m\n\u001b[0m\u001b[0;32m    253\u001b[0m \u001b[1;33m\u001b[0m\u001b[0m\n\u001b[0;32m    254\u001b[0m     \u001b[1;32mdef\u001b[0m \u001b[0mconvert_yunits\u001b[0m\u001b[1;33m(\u001b[0m\u001b[0mself\u001b[0m\u001b[1;33m,\u001b[0m \u001b[0my\u001b[0m\u001b[1;33m)\u001b[0m\u001b[1;33m:\u001b[0m\u001b[1;33m\u001b[0m\u001b[1;33m\u001b[0m\u001b[0m\n",
      "\u001b[1;32m~\\miniconda3\\envs\\py37cf\\lib\\site-packages\\matplotlib\\axis.py\u001b[0m in \u001b[0;36mconvert_units\u001b[1;34m(self, x)\u001b[0m\n\u001b[0;32m   1504\u001b[0m             \u001b[1;32mreturn\u001b[0m \u001b[0mx\u001b[0m\u001b[1;33m\u001b[0m\u001b[1;33m\u001b[0m\u001b[0m\n\u001b[0;32m   1505\u001b[0m         \u001b[1;32mtry\u001b[0m\u001b[1;33m:\u001b[0m\u001b[1;33m\u001b[0m\u001b[1;33m\u001b[0m\u001b[0m\n\u001b[1;32m-> 1506\u001b[1;33m             \u001b[0mret\u001b[0m \u001b[1;33m=\u001b[0m \u001b[0mself\u001b[0m\u001b[1;33m.\u001b[0m\u001b[0mconverter\u001b[0m\u001b[1;33m.\u001b[0m\u001b[0mconvert\u001b[0m\u001b[1;33m(\u001b[0m\u001b[0mx\u001b[0m\u001b[1;33m,\u001b[0m \u001b[0mself\u001b[0m\u001b[1;33m.\u001b[0m\u001b[0munits\u001b[0m\u001b[1;33m,\u001b[0m \u001b[0mself\u001b[0m\u001b[1;33m)\u001b[0m\u001b[1;33m\u001b[0m\u001b[1;33m\u001b[0m\u001b[0m\n\u001b[0m\u001b[0;32m   1507\u001b[0m         \u001b[1;32mexcept\u001b[0m \u001b[0mException\u001b[0m \u001b[1;32mas\u001b[0m \u001b[0me\u001b[0m\u001b[1;33m:\u001b[0m\u001b[1;33m\u001b[0m\u001b[1;33m\u001b[0m\u001b[0m\n\u001b[0;32m   1508\u001b[0m             raise munits.ConversionError('Failed to convert value(s) to axis '\n",
      "\u001b[1;32m~\\miniconda3\\envs\\py37cf\\lib\\site-packages\\pandas\\plotting\\_matplotlib\\converter.py\u001b[0m in \u001b[0;36mconvert\u001b[1;34m(values, unit, axis)\u001b[0m\n\u001b[0;32m    276\u001b[0m             \u001b[0mvalues\u001b[0m \u001b[1;33m=\u001b[0m \u001b[1;33m[\u001b[0m\u001b[0mDatetimeConverter\u001b[0m\u001b[1;33m.\u001b[0m\u001b[0m_convert_1d\u001b[0m\u001b[1;33m(\u001b[0m\u001b[0mv\u001b[0m\u001b[1;33m,\u001b[0m \u001b[0munit\u001b[0m\u001b[1;33m,\u001b[0m \u001b[0maxis\u001b[0m\u001b[1;33m)\u001b[0m \u001b[1;32mfor\u001b[0m \u001b[0mv\u001b[0m \u001b[1;32min\u001b[0m \u001b[0mvalues\u001b[0m\u001b[1;33m]\u001b[0m\u001b[1;33m\u001b[0m\u001b[1;33m\u001b[0m\u001b[0m\n\u001b[0;32m    277\u001b[0m         \u001b[1;32melse\u001b[0m\u001b[1;33m:\u001b[0m\u001b[1;33m\u001b[0m\u001b[1;33m\u001b[0m\u001b[0m\n\u001b[1;32m--> 278\u001b[1;33m             \u001b[0mvalues\u001b[0m \u001b[1;33m=\u001b[0m \u001b[0mDatetimeConverter\u001b[0m\u001b[1;33m.\u001b[0m\u001b[0m_convert_1d\u001b[0m\u001b[1;33m(\u001b[0m\u001b[0mvalues\u001b[0m\u001b[1;33m,\u001b[0m \u001b[0munit\u001b[0m\u001b[1;33m,\u001b[0m \u001b[0maxis\u001b[0m\u001b[1;33m)\u001b[0m\u001b[1;33m\u001b[0m\u001b[1;33m\u001b[0m\u001b[0m\n\u001b[0m\u001b[0;32m    279\u001b[0m         \u001b[1;32mreturn\u001b[0m \u001b[0mvalues\u001b[0m\u001b[1;33m\u001b[0m\u001b[1;33m\u001b[0m\u001b[0m\n\u001b[0;32m    280\u001b[0m \u001b[1;33m\u001b[0m\u001b[0m\n",
      "\u001b[1;32m~\\miniconda3\\envs\\py37cf\\lib\\site-packages\\pandas\\plotting\\_matplotlib\\converter.py\u001b[0m in \u001b[0;36m_convert_1d\u001b[1;34m(values, unit, axis)\u001b[0m\n\u001b[0;32m    311\u001b[0m                 \u001b[1;32mpass\u001b[0m\u001b[1;33m\u001b[0m\u001b[1;33m\u001b[0m\u001b[0m\n\u001b[0;32m    312\u001b[0m \u001b[1;33m\u001b[0m\u001b[0m\n\u001b[1;32m--> 313\u001b[1;33m             \u001b[0mvalues\u001b[0m \u001b[1;33m=\u001b[0m \u001b[0mdates\u001b[0m\u001b[1;33m.\u001b[0m\u001b[0mdate2num\u001b[0m\u001b[1;33m(\u001b[0m\u001b[0mvalues\u001b[0m\u001b[1;33m)\u001b[0m\u001b[1;33m\u001b[0m\u001b[1;33m\u001b[0m\u001b[0m\n\u001b[0m\u001b[0;32m    314\u001b[0m \u001b[1;33m\u001b[0m\u001b[0m\n\u001b[0;32m    315\u001b[0m         \u001b[1;32mreturn\u001b[0m \u001b[0mvalues\u001b[0m\u001b[1;33m\u001b[0m\u001b[1;33m\u001b[0m\u001b[0m\n",
      "\u001b[1;32m~\\miniconda3\\envs\\py37cf\\lib\\site-packages\\matplotlib\\dates.py\u001b[0m in \u001b[0;36mdate2num\u001b[1;34m(d)\u001b[0m\n\u001b[0;32m    442\u001b[0m         \u001b[1;32mif\u001b[0m \u001b[0mtzi\u001b[0m \u001b[1;32mis\u001b[0m \u001b[1;32mnot\u001b[0m \u001b[1;32mNone\u001b[0m\u001b[1;33m:\u001b[0m\u001b[1;33m\u001b[0m\u001b[1;33m\u001b[0m\u001b[0m\n\u001b[0;32m    443\u001b[0m             \u001b[1;31m# make datetime naive:\u001b[0m\u001b[1;33m\u001b[0m\u001b[1;33m\u001b[0m\u001b[1;33m\u001b[0m\u001b[0m\n\u001b[1;32m--> 444\u001b[1;33m             \u001b[0md\u001b[0m \u001b[1;33m=\u001b[0m \u001b[1;33m[\u001b[0m\u001b[0mdt\u001b[0m\u001b[1;33m.\u001b[0m\u001b[0mastimezone\u001b[0m\u001b[1;33m(\u001b[0m\u001b[0mUTC\u001b[0m\u001b[1;33m)\u001b[0m\u001b[1;33m.\u001b[0m\u001b[0mreplace\u001b[0m\u001b[1;33m(\u001b[0m\u001b[0mtzinfo\u001b[0m\u001b[1;33m=\u001b[0m\u001b[1;32mNone\u001b[0m\u001b[1;33m)\u001b[0m \u001b[1;32mfor\u001b[0m \u001b[0mdt\u001b[0m \u001b[1;32min\u001b[0m \u001b[0md\u001b[0m\u001b[1;33m]\u001b[0m\u001b[1;33m\u001b[0m\u001b[1;33m\u001b[0m\u001b[0m\n\u001b[0m\u001b[0;32m    445\u001b[0m             \u001b[0md\u001b[0m \u001b[1;33m=\u001b[0m \u001b[0mnp\u001b[0m\u001b[1;33m.\u001b[0m\u001b[0masarray\u001b[0m\u001b[1;33m(\u001b[0m\u001b[0md\u001b[0m\u001b[1;33m)\u001b[0m\u001b[1;33m\u001b[0m\u001b[1;33m\u001b[0m\u001b[0m\n\u001b[0;32m    446\u001b[0m         \u001b[0md\u001b[0m \u001b[1;33m=\u001b[0m \u001b[0md\u001b[0m\u001b[1;33m.\u001b[0m\u001b[0mastype\u001b[0m\u001b[1;33m(\u001b[0m\u001b[1;34m'datetime64[us]'\u001b[0m\u001b[1;33m)\u001b[0m\u001b[1;33m\u001b[0m\u001b[1;33m\u001b[0m\u001b[0m\n",
      "\u001b[1;32m~\\miniconda3\\envs\\py37cf\\lib\\site-packages\\matplotlib\\dates.py\u001b[0m in \u001b[0;36m<listcomp>\u001b[1;34m(.0)\u001b[0m\n\u001b[0;32m    442\u001b[0m         \u001b[1;32mif\u001b[0m \u001b[0mtzi\u001b[0m \u001b[1;32mis\u001b[0m \u001b[1;32mnot\u001b[0m \u001b[1;32mNone\u001b[0m\u001b[1;33m:\u001b[0m\u001b[1;33m\u001b[0m\u001b[1;33m\u001b[0m\u001b[0m\n\u001b[0;32m    443\u001b[0m             \u001b[1;31m# make datetime naive:\u001b[0m\u001b[1;33m\u001b[0m\u001b[1;33m\u001b[0m\u001b[1;33m\u001b[0m\u001b[0m\n\u001b[1;32m--> 444\u001b[1;33m             \u001b[0md\u001b[0m \u001b[1;33m=\u001b[0m \u001b[1;33m[\u001b[0m\u001b[0mdt\u001b[0m\u001b[1;33m.\u001b[0m\u001b[0mastimezone\u001b[0m\u001b[1;33m(\u001b[0m\u001b[0mUTC\u001b[0m\u001b[1;33m)\u001b[0m\u001b[1;33m.\u001b[0m\u001b[0mreplace\u001b[0m\u001b[1;33m(\u001b[0m\u001b[0mtzinfo\u001b[0m\u001b[1;33m=\u001b[0m\u001b[1;32mNone\u001b[0m\u001b[1;33m)\u001b[0m \u001b[1;32mfor\u001b[0m \u001b[0mdt\u001b[0m \u001b[1;32min\u001b[0m \u001b[0md\u001b[0m\u001b[1;33m]\u001b[0m\u001b[1;33m\u001b[0m\u001b[1;33m\u001b[0m\u001b[0m\n\u001b[0m\u001b[0;32m    445\u001b[0m             \u001b[0md\u001b[0m \u001b[1;33m=\u001b[0m \u001b[0mnp\u001b[0m\u001b[1;33m.\u001b[0m\u001b[0masarray\u001b[0m\u001b[1;33m(\u001b[0m\u001b[0md\u001b[0m\u001b[1;33m)\u001b[0m\u001b[1;33m\u001b[0m\u001b[1;33m\u001b[0m\u001b[0m\n\u001b[0;32m    446\u001b[0m         \u001b[0md\u001b[0m \u001b[1;33m=\u001b[0m \u001b[0md\u001b[0m\u001b[1;33m.\u001b[0m\u001b[0mastype\u001b[0m\u001b[1;33m(\u001b[0m\u001b[1;34m'datetime64[us]'\u001b[0m\u001b[1;33m)\u001b[0m\u001b[1;33m\u001b[0m\u001b[1;33m\u001b[0m\u001b[0m\n",
      "\u001b[1;31mKeyboardInterrupt\u001b[0m: "
     ]
    },
    {
     "data": {
      "image/png": "[encoded data removed]",
      "text/plain": [
       "<Figure size 432x288 with 1 Axes>"
      ]
     },
     "metadata": {
      "needs_background": "light"
     },
     "output_type": "display_data"
    }
   ],
   "source": [
    "f, ax = plt.subplots(1, 1)\n",
    "for y, df in weather_years.items():\n",
    "    df.temp_air.plot(label=y)"
   ]
  },
  {
   "cell_type": "code",
   "execution_count": null,
   "id": "e2f44219",
   "metadata": {},
   "outputs": [],
   "source": [
    "LATITUDE = header['latitude']\n",
    "LONGITUDE = header['longitude']\n",
    "ELEVATION = header['elevation']\n",
    "TIMES = df.index"
   ]
  },
  {
   "cell_type": "code",
   "execution_count": null,
   "id": "4d5e7c7f",
   "metadata": {},
   "outputs": [],
   "source": [
    "# get solar position\n",
    "sp = pvlib.solarposition.get_solarposition(\n",
    "        TIMES, LATITUDE, LONGITUDE)\n",
    "solar_zenith = sp.apparent_zenith.values\n",
    "solar_azimuth = sp.azimuth.values\n",
    "zenith = sp.zenith.values\n",
    "ghi = df.ghi.values"
   ]
  },
  {
   "cell_type": "code",
   "execution_count": null,
   "id": "c482cdd7",
   "metadata": {},
   "outputs": [],
   "source": [
    "# check the calculated zenith from SURFRAD\n",
    "ze_mbe = 100 * (\n",
    "    sum(solar_zenith - df.solar_zenith.values)\n",
    "    / sum(df.solar_zenith.values))\n",
    "print(f'zenith MBE: {ze_mbe}%')"
   ]
  },
  {
   "cell_type": "code",
   "execution_count": 3,
   "id": "4cb81327",
   "metadata": {},
   "outputs": [],
   "source": []
  },
  {
   "cell_type": "code",
   "execution_count": null,
   "id": "5b7fa705",
   "metadata": {},
   "outputs": [],
   "source": []
  },
  {
   "cell_type": "code",
   "execution_count": null,
   "id": "be2ecd1b",
   "metadata": {},
   "outputs": [],
   "source": []
  },
  {
   "cell_type": "code",
   "execution_count": null,
   "id": "899048e3",
   "metadata": {},
   "outputs": [],
   "source": []
  },
  {
   "cell_type": "code",
   "execution_count": null,
   "id": "66de8805",
   "metadata": {},
   "outputs": [],
   "source": []
  },
  {
   "cell_type": "code",
   "execution_count": null,
   "id": "81c03a5a",
   "metadata": {},
   "outputs": [],
   "source": []
  },
  {
   "cell_type": "markdown",
   "id": "d74dfc65",
   "metadata": {},
   "source": [
    "## Load SURFRAD daily weather data\n",
    "Each day is in a separate file. We already read this in using pvlib"
   ]
  },
  {
   "cell_type": "code",
   "execution_count": null,
   "id": "493772b3",
   "metadata": {},
   "outputs": [],
   "source": [
    "# how many days are in this file\n",
    "day_files = {int(d.parts[-1][5:-4]) for d in weather_years[10].iterdir()}\n",
    "len(day_files)"
   ]
  },
  {
   "cell_type": "code",
   "execution_count": null,
   "id": "60bfe22b-fa30-45c1-8d39-9e235aeee081",
   "metadata": {},
   "outputs": [],
   "source": [
    "# missing days\n",
    "missing_days = set(range(1, 366)) - day_files\n",
    "missing_days"
   ]
  },
  {
   "cell_type": "code",
   "execution_count": null,
   "id": "9f909fd0",
   "metadata": {},
   "outputs": [],
   "source": [
    "df.index"
   ]
  },
  {
   "cell_type": "markdown",
   "id": "0e8536f5",
   "metadata": {},
   "source": [
    "## Sanity check\n",
    "Look at a few timestamps around solar noon and display only a handful of columns:\n",
    "* direct normal irradiance (DNI): `'dni'`\n",
    "* global horizontal irradiance (GHI): `'ghi'`\n",
    "* diffuse horizontal irradiance (DHI): `'dhi'`\n",
    "* solar zenith: `'solar_zenith'`\n",
    "* wind speed: `'wind_speed'`\n",
    "* air temperature: `'temp_air'`"
   ]
  },
  {
   "cell_type": "code",
   "execution_count": null,
   "id": "cbf7cb7e",
   "metadata": {},
   "outputs": [],
   "source": [
    "# view a few timestamps to sanity check (E. Tufte, ...)\n",
    "data_cols = ['dni', 'ghi', 'dhi', 'solar_zenith', 'wind_speed', 'temp_air']\n",
    "df['2005-07-07T12:09:00-06:00':'2005-07-07T12:18:00-06:00'][data_cols]  # <-- XXX: pick dates for each month"
   ]
  },
  {
   "cell_type": "code",
   "execution_count": null,
   "id": "82f1e2e3",
   "metadata": {},
   "outputs": [],
   "source": [
    "df[data_cols].plot(figsize=(16, 10))"
   ]
  },
  {
   "cell_type": "code",
   "execution_count": null,
   "id": "eecdf31d",
   "metadata": {},
   "outputs": [],
   "source": [
    "ax = irrad.dni.plot(figsize=(16, 10), label='Erbs')\n",
    "ax = df.dni.plot(ax=ax, label='SURFRAD')\n",
    "plt.legend()"
   ]
  },
  {
   "cell_type": "code",
   "execution_count": null,
   "id": "1f2ca88a-67d3-4aef-bfc1-0ac11afab24a",
   "metadata": {},
   "outputs": [],
   "source": [
    "ax = irrad.dhi.plot(figsize=(16, 10), label='Erbs')\n",
    "ax = df.dhi.plot(ax=ax, label='SURFRAD')\n",
    "plt.legend()"
   ]
  },
  {
   "cell_type": "markdown",
   "id": "942fc923",
   "metadata": {},
   "source": [
    "## Data quality\n",
    "Do some basic quality checking:\n",
    "1. no irradiance should be negative\n",
    "2. the DHI has to be the same as\n",
    "    $$GHI - DNI \\cos \\left( \\theta \\right)$$\n",
    "\n",
    "Then plot a sample day and take a look:"
   ]
  },
  {
   "cell_type": "code",
   "execution_count": null,
   "id": "289eb395",
   "metadata": {},
   "outputs": [],
   "source": [
    "surfrad_dni = np.maximum(0, df['dni'])\n",
    "surfrad_ghi = np.maximum(0, df['ghi'])\n",
    "surfrad_dif = np.maximum(0, df['dhi'])\n",
    "surfrad_zerad = np.radians(df['solar_zenith'])\n",
    "dhi_calc = pd.Series(np.maximum(0, surfrad_ghi - surfrad_dni*np.cos(surfrad_zerad)), name='DHI calc')\n",
    "irr_check = pd.concat([surfrad_dni, surfrad_ghi, surfrad_dif, dhi_calc], axis=1)"
   ]
  },
  {
   "cell_type": "code",
   "execution_count": null,
   "id": "dbc91672",
   "metadata": {},
   "outputs": [],
   "source": [
    "ax = irr_check['2005-07-01':'2005-07-04'].plot(figsize=(16, 10))  # <-- XXX: pick dates for each month\n",
    "irrad['2005-07-01':'2005-07-04'][['dni', 'dhi']].plot(style=['--', ':'], ax=ax)\n",
    "plt.legend()"
   ]
  },
  {
   "cell_type": "code",
   "execution_count": null,
   "id": "bb4aca68",
   "metadata": {},
   "outputs": [],
   "source": [
    "ax = irr_check['2005-11-01':'2005-11-04'].plot(figsize=(16, 10))  # <-- XXX: pick dates for each month\n",
    "irrad['2005-11-01':'2005-11-04'][['dni', 'dhi']].plot(style=['--', ':'], ax=ax)\n",
    "plt.legend()"
   ]
  },
  {
   "cell_type": "markdown",
   "id": "04d3798d",
   "metadata": {},
   "source": [
    "## assembling weather file\n",
    "To model the output we need the following columns:\n",
    "1. datetime as ISO8601 but no nanoseconds or timezone\n",
    "2. GHI\n",
    "2. DHI (_AKA_: DIF)\n",
    "3. Temp\n",
    "4. WS"
   ]
  },
  {
   "cell_type": "code",
   "execution_count": null,
   "id": "ae79019f",
   "metadata": {},
   "outputs": [],
   "source": [
    "# get other parameters needed for modeling like windspeed and air temp\n",
    "surfrad_wspd = df['wind_speed']\n",
    "surfrad_tair = df['temp_air']"
   ]
  },
  {
   "cell_type": "code",
   "execution_count": null,
   "id": "8ed3049a",
   "metadata": {},
   "outputs": [],
   "source": [
    "weather = pd.concat([surfrad_ghi, surfrad_dif, surfrad_tair, surfrad_wspd], axis=1)\n",
    "weather.index.name = 'datetime'\n",
    "weather.columns = ['GHI', 'DIF', 'Temp', 'WS']\n",
    "weather.head()"
   ]
  },
  {
   "cell_type": "code",
   "execution_count": null,
   "id": "67fa556e",
   "metadata": {},
   "outputs": [],
   "source": [
    "weather.loc['2005-01-01T08:21:00-06:00']  # <-- XXX: pick dates for each month"
   ]
  },
  {
   "cell_type": "markdown",
   "id": "7b8dd5a0",
   "metadata": {},
   "source": [
    "## Simulate 5-minute sampled satellite data\n",
    "Choose instantaneous records every five minutes. Choose approximately the middle of the 5-minute sampling interval. Since these are 1-minute timestamps already, the closest to the middle is either the 2nd or 3rd minute."
   ]
  },
  {
   "cell_type": "code",
   "execution_count": null,
   "id": "3fcfb914",
   "metadata": {},
   "outputs": [],
   "source": [
    "every5min = list(range(3, 60, 6))\n",
    "every5min"
   ]
  },
  {
   "cell_type": "markdown",
   "id": "071bfa69",
   "metadata": {},
   "source": [
    "### Shift index\n",
    "We need the timestamp to be at the start of the sampling interval"
   ]
  },
  {
   "cell_type": "code",
   "execution_count": null,
   "id": "793af560",
   "metadata": {},
   "outputs": [],
   "source": [
    "weather5inst = weather[weather.index.minute.isin(every5min)].shift(freq='-3min')\n",
    "weather5inst60min = weather5inst.resample('H').mean()\n",
    "weather5inst60min['2005-01-07T06:00:00-06:00':'2005-01-07T18:00:00-06:00']"
   ]
  },
  {
   "cell_type": "markdown",
   "id": "44363ac2",
   "metadata": {},
   "source": [
    "## Ditto for every 15-minutes\n",
    "Repeat for 15 minute intervals. Same dilemma, the closest record to the middle of the interval is either the 7th or 8th minute."
   ]
  },
  {
   "cell_type": "code",
   "execution_count": null,
   "id": "c68df9f4",
   "metadata": {},
   "outputs": [],
   "source": [
    "every15min = list(range(6, 60, 15))\n",
    "every15min"
   ]
  },
  {
   "cell_type": "code",
   "execution_count": null,
   "id": "8fafb65c",
   "metadata": {},
   "outputs": [],
   "source": [
    "weather15inst = weather[weather.index.minute.isin(every15min)].shift(freq='-6min')\n",
    "weather15inst60min = weather15inst.resample('H').mean()\n",
    "weather15inst60min['2005-01-07T06:00:00-06:00':'2005-01-07T18:00:00-06:00']"
   ]
  },
  {
   "cell_type": "markdown",
   "id": "424c0b8f",
   "metadata": {},
   "source": [
    "## Ditto 60-minutes"
   ]
  },
  {
   "cell_type": "code",
   "execution_count": null,
   "id": "cb28279b",
   "metadata": {},
   "outputs": [],
   "source": [
    "weather30inst = weather[weather.index.minute.isin([15, 45])].shift(freq='-15min')\n",
    "weather30inst60min = weather30inst.resample('H').mean()\n",
    "weather30inst60min['2005-01-07T06:00:00-06:00':'2005-01-07T18:00:00-06:00']"
   ]
  },
  {
   "cell_type": "markdown",
   "id": "2511d534",
   "metadata": {},
   "source": [
    "# Visual Comparison of different sampling intervals\n",
    "How do these look compared to each other? Are they shifted correctly? Are they on the same order? Do they capture the variability?"
   ]
  },
  {
   "cell_type": "code",
   "execution_count": null,
   "id": "9d8736bb",
   "metadata": {},
   "outputs": [],
   "source": [
    "ax = weather['2005-01-07T06:00:00-06:00':'2005-01-07T18:00:00-06:00']['GHI'].plot()\n",
    "weather5inst['2005-01-07T06:00:00-06:00':'2005-01-07T18:00:00-06:00']['GHI'].shift(freq='3min').plot(ax=ax, marker='o', ms=5)\n",
    "weather15inst['2005-01-07T06:00:00-06:00':'2005-01-07T18:00:00-06:00']['GHI'].shift(freq='6min').plot(ax=ax, marker='o', ms=10)\n",
    "weather30inst['2005-01-07T06:00:00-06:00':'2005-01-07T18:00:00-06:00']['GHI'].shift(freq='15min').plot(ax=ax, marker='o', ms=15)\n",
    "plt.legend(['1-inst', '5-inst', '15-inst', '30-inst'])"
   ]
  },
  {
   "cell_type": "code",
   "execution_count": null,
   "id": "8191fc80",
   "metadata": {},
   "outputs": [],
   "source": [
    "ax = weather['2017-07-07 06:00':'2017-07-07 18:00']['GHI'].plot()\n",
    "weather5inst['2017-07-07 06:00':'2017-07-07 18:00']['GHI'].shift(freq='2min').plot(ax=ax, marker='o', ms=5)\n",
    "weather15inst['2017-07-07 06:00':'2017-07-07 18:00']['GHI'].shift(freq='7min').plot(ax=ax, marker='o', ms=10)\n",
    "weather30inst['2017-07-07 06:00':'2017-07-07 18:00']['GHI'].shift(freq='15min').plot(ax=ax, marker='o', ms=15)\n",
    "plt.legend(['1-inst', '5-inst', '15-inst', '30-inst'])\n",
    "plt.title('Instantaneous measurements taken at various sampling rates')\n",
    "plt.ylabel('GHI $[W/m^2]$')"
   ]
  },
  {
   "cell_type": "markdown",
   "id": "eea92fc9",
   "metadata": {},
   "source": [
    "## Hourly averages from instantaneously sampled"
   ]
  },
  {
   "cell_type": "code",
   "execution_count": null,
   "id": "0f5a20a1",
   "metadata": {},
   "outputs": [],
   "source": [
    "ax = weather.resample('H').mean().shift(freq='30min')['2017-01-07 06:00':'2017-01-07 18:00']['GHI'].plot(marker='o')\n",
    "weather5inst60min.shift(freq='30min')['2017-01-07 06:00':'2017-01-07 18:00']['GHI'].plot(ax=ax, marker='o')\n",
    "weather15inst60min.shift(freq='30min')['2017-01-07 06:00':'2017-01-07 18:00']['GHI'].plot(ax=ax, marker='o')\n",
    "weather30inst60min.shift(freq='30min')['2017-01-07 06:00':'2017-01-07 18:00']['GHI'].plot(ax=ax, marker='o')\n",
    "plt.legend(['1-inst_60-min', '5-inst_60-min', '15-inst_60-min', '30-inst_60-min'])"
   ]
  },
  {
   "cell_type": "code",
   "execution_count": null,
   "id": "7b75a22e",
   "metadata": {},
   "outputs": [],
   "source": [
    "ax = weather.resample('H').mean().shift(freq='30min')['2017-07-07 06:00':'2017-07-07 18:00']['GHI'].plot(marker='o')\n",
    "weather5inst60min.shift(freq='30min')['2017-07-07 06:00':'2017-07-07 18:00']['GHI'].plot(ax=ax, marker='o')\n",
    "weather15inst60min.shift(freq='30min')['2017-07-07 06:00':'2017-07-07 18:00']['GHI'].plot(ax=ax, marker='o')\n",
    "weather30inst60min.shift(freq='30min')['2017-07-07 06:00':'2017-07-07 18:00']['GHI'].plot(ax=ax, marker='o')\n",
    "plt.legend(['1-inst_60-min', '5-inst_60-min', '15-inst_60-min', '30-inst_60-min'])\n",
    "plt.title('Simulated satellite data averaged hourly from instantaneous measurements at various sampling rates')\n",
    "plt.ylabel('GHI $[W/m^2]$')"
   ]
  },
  {
   "cell_type": "code",
   "execution_count": null,
   "id": "f9b62e73",
   "metadata": {},
   "outputs": [],
   "source": [
    "weather.resample('H').mean()['2017-01-07 06:00':'2017-01-07 18:00']"
   ]
  },
  {
   "cell_type": "markdown",
   "id": "505d8bed",
   "metadata": {},
   "source": [
    "## Compare 15-minute time averaged to 15-minute instantaneous\n",
    "How do shorter sampling intervals compare to time averaged values? Starting with 1-minute data, average every 15-minutes and compare to picking a single instantaneous record every 15 minutes, starting at the 7th minute."
   ]
  },
  {
   "cell_type": "code",
   "execution_count": null,
   "id": "6a25e22f",
   "metadata": {},
   "outputs": [],
   "source": [
    "ax = weather.resample('15T').mean().shift(freq='450s')['2017-01-07 06:00':'2017-01-07 18:00']['GHI'].plot(marker='o')\n",
    "weather15inst['2017-01-07 06:00':'2017-01-07 18:00']['GHI'].shift(freq='7min').plot(ax=ax, marker='o')\n",
    "plt.legend(['1-inst_15-min', '15-inst'])"
   ]
  },
  {
   "cell_type": "code",
   "execution_count": null,
   "id": "3eced0ca",
   "metadata": {},
   "outputs": [],
   "source": [
    "ax = weather.resample('15T').mean().shift(freq='450s')['2017-07-07 06:00':'2017-07-07 18:00']['GHI'].plot(marker='o')\n",
    "weather15inst['2017-07-07 06:00':'2017-07-07 18:00']['GHI'].shift(freq='7min').plot(ax=ax, marker='o')\n",
    "plt.legend(['1-inst_15-min', '15-inst'])"
   ]
  },
  {
   "cell_type": "code",
   "execution_count": null,
   "id": "82888c1e",
   "metadata": {},
   "outputs": [],
   "source": [
    "weather.resample('15T').mean()['2017-01-07 10:30':'2017-01-07 13:30']"
   ]
  },
  {
   "cell_type": "markdown",
   "id": "c759dad5",
   "metadata": {},
   "source": [
    "# save output\n",
    "Save the files we need to run SolarFarmer"
   ]
  },
  {
   "cell_type": "code",
   "execution_count": null,
   "id": "5edbcca1",
   "metadata": {},
   "outputs": [],
   "source": [
    "month = 'allmonths'\n",
    "output_dir = pathlib.Path(f'instantaneous_{month}')\n",
    "output_dir.mkdir(exist_ok=False)  # <-- January is already done"
   ]
  },
  {
   "cell_type": "code",
   "execution_count": null,
   "id": "f6acb576",
   "metadata": {},
   "outputs": [],
   "source": [
    "weather5inst.dropna().to_csv(output_dir / f'NIST_{month}-2017_5-inst.tab', sep='\\t')\n",
    "weather5inst60min.dropna().to_csv(output_dir / f'NIST_{month}-2017_5-inst_60-min.tab', sep='\\t')"
   ]
  },
  {
   "cell_type": "code",
   "execution_count": null,
   "id": "9e10f37e",
   "metadata": {},
   "outputs": [],
   "source": [
    "weather15inst.dropna().to_csv(output_dir / f'NIST_{month}-2017_15-inst.tab', sep='\\t')\n",
    "weather15inst60min.dropna().to_csv(output_dir / f'NIST_{month}-2017_15-inst_60-min.tab', sep='\\t')"
   ]
  },
  {
   "cell_type": "code",
   "execution_count": null,
   "id": "e9509461",
   "metadata": {},
   "outputs": [],
   "source": [
    "weather30inst.dropna().to_csv(output_dir / f'NIST_{month}-2017_30-inst.tab', sep='\\t')\n",
    "weather30inst60min.dropna().to_csv(output_dir / f'NIST_{month}-2017_30-inst_60-min.tab', sep='\\t')"
   ]
  },
  {
   "cell_type": "code",
   "execution_count": null,
   "id": "120cd20a",
   "metadata": {},
   "outputs": [],
   "source": [
    "weather60inst = weather[weather.index.minute.isin([30])].shift(freq='-30min')\n",
    "weather60inst['2017-01-07 06:00':'2017-01-07 18:00']"
   ]
  },
  {
   "cell_type": "code",
   "execution_count": null,
   "id": "152627f2",
   "metadata": {},
   "outputs": [],
   "source": [
    "weather60inst.dropna().to_csv(output_dir / f'NIST_{month}-2017_60-inst.tab', sep='\\t')"
   ]
  },
  {
   "cell_type": "markdown",
   "id": "e04dd3cc",
   "metadata": {},
   "source": [
    "# Time Averaged\n",
    "This is the original clipping error problem."
   ]
  },
  {
   "cell_type": "code",
   "execution_count": null,
   "id": "9d9d4e04",
   "metadata": {},
   "outputs": [],
   "source": [
    "weather.dropna().to_csv(output_dir / f'NIST_{month}-2017_1-min.tab', sep='\\t')\n",
    "weather.resample('5T').mean().dropna().to_csv(output_dir / f'NIST_{month}-2017_5-min.tab', sep='\\t')\n",
    "weather.resample('15T').mean().dropna().to_csv(output_dir / f'NIST_{month}-2017_15-min.tab', sep='\\t')\n",
    "weather.dropna().resample('30T').mean().dropna().to_csv(output_dir / f'NIST_{month}-2017_30-min.tab', sep='\\t')\n",
    "weather.resample('H').mean().dropna().to_csv(output_dir / f'NIST_{month}-2017_60-min.tab', sep='\\t')"
   ]
  },
  {
   "cell_type": "code",
   "execution_count": null,
   "id": "bf594d93",
   "metadata": {},
   "outputs": [],
   "source": []
  }
 ],
 "metadata": {
  "kernelspec": {
   "display_name": "Python 3 (ipykernel)",
   "language": "python",
   "name": "python3"
  },
  "language_info": {
   "codemirror_mode": {
    "name": "ipython",
    "version": 3
   },
   "file_extension": ".py",
   "mimetype": "text/x-python",
   "name": "python",
   "nbconvert_exporter": "python",
   "pygments_lexer": "ipython3",
   "version": "3.7.12"
  }
 },
 "nbformat": 4,
 "nbformat_minor": 5
}
